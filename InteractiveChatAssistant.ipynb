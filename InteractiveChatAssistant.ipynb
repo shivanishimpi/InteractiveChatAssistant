{
  "nbformat": 4,
  "nbformat_minor": 0,
  "metadata": {
    "kernelspec": {
      "display_name": "Python 3",
      "language": "python",
      "name": "python3"
    },
    "language_info": {
      "codemirror_mode": {
        "name": "ipython",
        "version": 3
      },
      "file_extension": ".py",
      "mimetype": "text/x-python",
      "name": "python",
      "nbconvert_exporter": "python",
      "pygments_lexer": "ipython3",
      "version": "3.7.3"
    },
    "colab": {
      "name": "InteractiveChatAssistant.ipynb",
      "provenance": [],
      "toc_visible": true
    }
  },
  "cells": [
    {
      "cell_type": "code",
      "metadata": {
        "id": "DbC65XjZh3ta",
        "colab_type": "code",
        "cellView": "form",
        "colab": {
          "base_uri": "https://localhost:8080/",
          "height": 122
        },
        "outputId": "7e39ca52-f204-4a85-9b66-4ab82d97d540"
      },
      "source": [
        "#@title Mount Drive \n",
        "from google.colab import drive\n",
        "drive.mount('/content/drive')"
      ],
      "execution_count": 1,
      "outputs": [
        {
          "output_type": "stream",
          "text": [
            "Go to this URL in a browser: https://accounts.google.com/o/oauth2/auth?client_id=947318989803-6bn6qk8qdgf4n4g3pfee6491hc0brc4i.apps.googleusercontent.com&redirect_uri=urn%3aietf%3awg%3aoauth%3a2.0%3aoob&response_type=code&scope=email%20https%3a%2f%2fwww.googleapis.com%2fauth%2fdocs.test%20https%3a%2f%2fwww.googleapis.com%2fauth%2fdrive%20https%3a%2f%2fwww.googleapis.com%2fauth%2fdrive.photos.readonly%20https%3a%2f%2fwww.googleapis.com%2fauth%2fpeopleapi.readonly\n",
            "\n",
            "Enter your authorization code:\n",
            "··········\n",
            "Mounted at /content/drive\n"
          ],
          "name": "stdout"
        }
      ]
    },
    {
      "cell_type": "code",
      "metadata": {
        "id": "U_is0iR_iPSH",
        "colab_type": "code",
        "colab": {}
      },
      "source": [
        "cd '/content/drive/My Drive/Chatbot' "
      ],
      "execution_count": null,
      "outputs": []
    },
    {
      "cell_type": "code",
      "metadata": {
        "id": "7JpbUdffh1CX",
        "colab_type": "code",
        "cellView": "form",
        "colab": {}
      },
      "source": [
        "#@title Library Imports\n",
        "import pandas as pd\n",
        "import nltk \n",
        "import numpy as np\n",
        "import re\n",
        "from nltk.stem import wordnet # to perform lemmitization\n",
        "from sklearn.feature_extraction.text import CountVectorizer # to perform bow\n",
        "from sklearn.feature_extraction.text import TfidfVectorizer # to perform tfidf\n",
        "from nltk import pos_tag # for parts of speech\n",
        "from sklearn.metrics import pairwise_distances # to perfrom cosine similarity\n",
        "from nltk import word_tokenize # to create tokens\n",
        "from nltk.corpus import stopwords # for stop words"
      ],
      "execution_count": 3,
      "outputs": []
    },
    {
      "cell_type": "code",
      "metadata": {
        "id": "B7u1piFqioNS",
        "colab_type": "code",
        "cellView": "form",
        "colab": {
          "base_uri": "https://localhost:8080/",
          "height": 187
        },
        "outputId": "394fa115-9319-41d7-9a85-712c2f8fb973"
      },
      "source": [
        "#@title NLTK Downloads \n",
        "nltk.download('punkt')\n",
        "nltk.download('wordnet')\n",
        "nltk.download('averaged_perceptron_tagger')\n",
        "nltk.download('stopwords')"
      ],
      "execution_count": 4,
      "outputs": [
        {
          "output_type": "stream",
          "text": [
            "[nltk_data] Downloading package punkt to /root/nltk_data...\n",
            "[nltk_data]   Unzipping tokenizers/punkt.zip.\n",
            "[nltk_data] Downloading package wordnet to /root/nltk_data...\n",
            "[nltk_data]   Unzipping corpora/wordnet.zip.\n",
            "[nltk_data] Downloading package averaged_perceptron_tagger to\n",
            "[nltk_data]     /root/nltk_data...\n",
            "[nltk_data]   Unzipping taggers/averaged_perceptron_tagger.zip.\n",
            "[nltk_data] Downloading package stopwords to /root/nltk_data...\n",
            "[nltk_data]   Unzipping corpora/stopwords.zip.\n"
          ],
          "name": "stdout"
        },
        {
          "output_type": "execute_result",
          "data": {
            "text/plain": [
              "True"
            ]
          },
          "metadata": {
            "tags": []
          },
          "execution_count": 4
        }
      ]
    },
    {
      "cell_type": "code",
      "metadata": {
        "id": "GZ67rRfJh1Cd",
        "colab_type": "code",
        "colab": {}
      },
      "source": [
        "df=pd.read_excel('textCorpus.xlsx')\n",
        "#df.head()"
      ],
      "execution_count": 5,
      "outputs": []
    },
    {
      "cell_type": "code",
      "metadata": {
        "id": "zccg9icqh1Cj",
        "colab_type": "code",
        "colab": {
          "base_uri": "https://localhost:8080/",
          "height": 34
        },
        "outputId": "b7ae369b-df21-4581-cae8-ae89faa177da"
      },
      "source": [
        "df.shape # returns the number of rows in dataset"
      ],
      "execution_count": 58,
      "outputs": [
        {
          "output_type": "execute_result",
          "data": {
            "text/plain": [
              "(1592, 5)"
            ]
          },
          "metadata": {
            "tags": []
          },
          "execution_count": 58
        }
      ]
    },
    {
      "cell_type": "markdown",
      "metadata": {
        "id": "8TAXjZYRN4UB",
        "colab_type": "text"
      },
      "source": [
        "#Data Processing"
      ]
    },
    {
      "cell_type": "markdown",
      "metadata": {
        "id": "red-WeiWF5mA",
        "colab_type": "text"
      },
      "source": [
        "Fills the voids with the previous value in sheet\n"
      ]
    },
    {
      "cell_type": "code",
      "metadata": {
        "id": "XH9wv489h1Cn",
        "colab_type": "code",
        "colab": {
          "base_uri": "https://localhost:8080/",
          "height": 419
        },
        "outputId": "9e72cde6-e5ce-4653-8454-185193df795d"
      },
      "source": [
        "df.ffill(axis = 0,inplace=True) # fills the null value with the previous value.\n",
        "df"
      ],
      "execution_count": 7,
      "outputs": [
        {
          "output_type": "execute_result",
          "data": {
            "text/html": [
              "<div>\n",
              "<style scoped>\n",
              "    .dataframe tbody tr th:only-of-type {\n",
              "        vertical-align: middle;\n",
              "    }\n",
              "\n",
              "    .dataframe tbody tr th {\n",
              "        vertical-align: top;\n",
              "    }\n",
              "\n",
              "    .dataframe thead th {\n",
              "        text-align: right;\n",
              "    }\n",
              "</style>\n",
              "<table border=\"1\" class=\"dataframe\">\n",
              "  <thead>\n",
              "    <tr style=\"text-align: right;\">\n",
              "      <th></th>\n",
              "      <th>Context</th>\n",
              "      <th>Text Response</th>\n",
              "    </tr>\n",
              "  </thead>\n",
              "  <tbody>\n",
              "    <tr>\n",
              "      <th>0</th>\n",
              "      <td>Tell me about your personality</td>\n",
              "      <td>Just think of me as the ace up your sleeve.</td>\n",
              "    </tr>\n",
              "    <tr>\n",
              "      <th>1</th>\n",
              "      <td>I want to know you better</td>\n",
              "      <td>I can help you work smarter instead of harder</td>\n",
              "    </tr>\n",
              "    <tr>\n",
              "      <th>2</th>\n",
              "      <td>Define yourself</td>\n",
              "      <td>I can help you work smarter instead of harder</td>\n",
              "    </tr>\n",
              "    <tr>\n",
              "      <th>3</th>\n",
              "      <td>Describe yourself</td>\n",
              "      <td>I can help you work smarter instead of harder</td>\n",
              "    </tr>\n",
              "    <tr>\n",
              "      <th>4</th>\n",
              "      <td>tell me about yourself</td>\n",
              "      <td>I can help you work smarter instead of harder</td>\n",
              "    </tr>\n",
              "    <tr>\n",
              "      <th>...</th>\n",
              "      <td>...</td>\n",
              "      <td>...</td>\n",
              "    </tr>\n",
              "    <tr>\n",
              "      <th>1587</th>\n",
              "      <td>can we chat</td>\n",
              "      <td>Talking is what I do best.</td>\n",
              "    </tr>\n",
              "    <tr>\n",
              "      <th>1588</th>\n",
              "      <td>I'll be back in a few minutes</td>\n",
              "      <td>I'll be waiting.</td>\n",
              "    </tr>\n",
              "    <tr>\n",
              "      <th>1589</th>\n",
              "      <td>I'll be back</td>\n",
              "      <td>All right. I'll be here.</td>\n",
              "    </tr>\n",
              "    <tr>\n",
              "      <th>1590</th>\n",
              "      <td>I'll get back to you in a moment</td>\n",
              "      <td>Till next time.</td>\n",
              "    </tr>\n",
              "    <tr>\n",
              "      <th>1591</th>\n",
              "      <td>I promise to come back</td>\n",
              "      <td>Okay. You know where to find me.</td>\n",
              "    </tr>\n",
              "  </tbody>\n",
              "</table>\n",
              "<p>1592 rows × 2 columns</p>\n",
              "</div>"
            ],
            "text/plain": [
              "                               Context                                  Text Response\n",
              "0       Tell me about your personality    Just think of me as the ace up your sleeve.\n",
              "1            I want to know you better  I can help you work smarter instead of harder\n",
              "2                      Define yourself  I can help you work smarter instead of harder\n",
              "3                    Describe yourself  I can help you work smarter instead of harder\n",
              "4               tell me about yourself  I can help you work smarter instead of harder\n",
              "...                                ...                                            ...\n",
              "1587                       can we chat                     Talking is what I do best.\n",
              "1588     I'll be back in a few minutes                               I'll be waiting.\n",
              "1589                      I'll be back                       All right. I'll be here.\n",
              "1590  I'll get back to you in a moment                                Till next time.\n",
              "1591            I promise to come back               Okay. You know where to find me.\n",
              "\n",
              "[1592 rows x 2 columns]"
            ]
          },
          "metadata": {
            "tags": []
          },
          "execution_count": 7
        }
      ]
    },
    {
      "cell_type": "code",
      "metadata": {
        "id": "MiaF9Zomh1Cq",
        "colab_type": "code",
        "colab": {}
      },
      "source": [
        "df1=df.head(10) # copy of first ten rows of dataset"
      ],
      "execution_count": 8,
      "outputs": []
    },
    {
      "cell_type": "markdown",
      "metadata": {
        "id": "X1ujQIlKF8mg",
        "colab_type": "text"
      },
      "source": [
        "```Text normalization``` is where we convert the data into lower case and then removes special characters and then perform lemmatization. Function that converts text into lower case and removes special characters"
      ]
    },
    {
      "cell_type": "code",
      "metadata": {
        "id": "AmbnBCQAh1Ct",
        "colab_type": "code",
        "colab": {}
      },
      "source": [
        "# function that converts text into lower case and removes special characters\n",
        "\n",
        "def step1(x):\n",
        "    for i in x:\n",
        "        a=str(i).lower()\n",
        "        p=re.sub(r'[^a-z0-9]',' ',a)\n",
        "        print(p)"
      ],
      "execution_count": 9,
      "outputs": []
    },
    {
      "cell_type": "code",
      "metadata": {
        "id": "WDo5IjNYh1Cx",
        "colab_type": "code",
        "colab": {
          "base_uri": "https://localhost:8080/",
          "height": 187
        },
        "outputId": "65822e91-9b22-4c72-898f-95e96182d50c"
      },
      "source": [
        "step1(df1['Context'])"
      ],
      "execution_count": 10,
      "outputs": [
        {
          "output_type": "stream",
          "text": [
            "tell me about your personality\n",
            "i want to know you better\n",
            "define yourself\n",
            "describe yourself\n",
            "tell me about yourself\n",
            "all about you\n",
            "tell me some stuff about you\n",
            "talk some stuff about you\n",
            "talk about yourself\n",
            "about yourself\n"
          ],
          "name": "stdout"
        }
      ]
    },
    {
      "cell_type": "markdown",
      "metadata": {
        "id": "EUayYridGCnh",
        "colab_type": "text"
      },
      "source": [
        "Performing ```tokenization``` (assigning a token to every word)\n",
        "Tokenization is just the term used to describe the process of converting the normal text strings into a list of tokens i.e words that we actually want.\n",
        "Later, we will be reassigning those tokens to the sentences)"
      ]
    },
    {
      "cell_type": "code",
      "metadata": {
        "id": "aePmCX0Nh1C2",
        "colab_type": "code",
        "colab": {
          "base_uri": "https://localhost:8080/",
          "height": 34
        },
        "outputId": "1b300531-5853-4b23-a1b9-c512a969696b"
      },
      "source": [
        " # word tokenizing\n",
        "    \n",
        "s='tell me about your personality'\n",
        "words=word_tokenize(s)\n",
        "print(words)"
      ],
      "execution_count": 11,
      "outputs": [
        {
          "output_type": "stream",
          "text": [
            "['tell', 'me', 'about', 'your', 'personality']\n"
          ],
          "name": "stdout"
        }
      ]
    },
    {
      "cell_type": "markdown",
      "metadata": {
        "id": "PD0S_AHFGGLQ",
        "colab_type": "text"
      },
      "source": [
        "```Lemmatization``` involves reducing inflected (or sometimes derived) words to their lemmas, base or root form.\n",
        "\n",
        "For example, \n",
        "running or ran will be converted to run, and better will be converted to good\n",
        "\n",
        "NLTK provides ```.WordNetLemmatizer()``` to serve the purpose"
      ]
    },
    {
      "cell_type": "code",
      "metadata": {
        "id": "CLANoGLeh1C6",
        "colab_type": "code",
        "colab": {
          "base_uri": "https://localhost:8080/",
          "height": 35
        },
        "outputId": "dcfb1caa-d8f2-4ba2-9331-27530418f84a"
      },
      "source": [
        "lemma = wordnet.WordNetLemmatizer() # intializing lemmatizer\n",
        "lemma.lemmatize('absorbed', pos = 'v')"
      ],
      "execution_count": 12,
      "outputs": [
        {
          "output_type": "execute_result",
          "data": {
            "application/vnd.google.colaboratory.intrinsic": {
              "type": "string"
            },
            "text/plain": [
              "'absorb'"
            ]
          },
          "metadata": {
            "tags": []
          },
          "execution_count": 12
        }
      ]
    },
    {
      "cell_type": "code",
      "metadata": {
        "id": "WMs7qMEqh1C9",
        "colab_type": "code",
        "colab": {
          "base_uri": "https://localhost:8080/",
          "height": 102
        },
        "outputId": "0b71d767-2aef-4049-dcda-e83130214973"
      },
      "source": [
        "pos_tag(nltk.word_tokenize(s),tagset = None) # returns the parts of speech of every word"
      ],
      "execution_count": 13,
      "outputs": [
        {
          "output_type": "execute_result",
          "data": {
            "text/plain": [
              "[('tell', 'VB'),\n",
              " ('me', 'PRP'),\n",
              " ('about', 'IN'),\n",
              " ('your', 'PRP$'),\n",
              " ('personality', 'NN')]"
            ]
          },
          "metadata": {
            "tags": []
          },
          "execution_count": 13
        }
      ]
    },
    {
      "cell_type": "code",
      "metadata": {
        "id": "Rkgy2mhVh1C_",
        "colab_type": "code",
        "colab": {}
      },
      "source": [
        "# function that performs text normalization steps\n",
        "\n",
        "def text_normalization(text):\n",
        "    text=str(text).lower() # text to lower case\n",
        "    spl_char_text=re.sub(r'[^ a-z]','',text) # removing special characters\n",
        "    tokens=nltk.word_tokenize(spl_char_text) # word tokenizing\n",
        "    lema=wordnet.WordNetLemmatizer() # intializing lemmatization\n",
        "    tags_list=pos_tag(tokens,tagset=None) # parts of speech\n",
        "    lema_words=[]   # empty list \n",
        "    for token,pos_token in tags_list:\n",
        "        if pos_token.startswith('V'):  # Verb\n",
        "            pos_val='v'\n",
        "        elif pos_token.startswith('J'): # Adjective\n",
        "            pos_val='a'\n",
        "        elif pos_token.startswith('R'): # Adverb\n",
        "            pos_val='r'\n",
        "        else:\n",
        "            pos_val='n' # Noun\n",
        "        lema_token=lema.lemmatize(token,pos_val) # performing lemmatization\n",
        "        lema_words.append(lema_token) # appending the lemmatized token into a list\n",
        "    \n",
        "    return \" \".join(lema_words) # returns the lemmatized tokens as a sentence "
      ],
      "execution_count": 14,
      "outputs": []
    },
    {
      "cell_type": "code",
      "metadata": {
        "id": "x-9qt7Y_h1DC",
        "colab_type": "code",
        "colab": {
          "base_uri": "https://localhost:8080/",
          "height": 35
        },
        "outputId": "2b4ceff4-dad6-44a2-f2d0-30171ad45431"
      },
      "source": [
        "text_normalization('telling you some stuff about me')"
      ],
      "execution_count": 15,
      "outputs": [
        {
          "output_type": "execute_result",
          "data": {
            "application/vnd.google.colaboratory.intrinsic": {
              "type": "string"
            },
            "text/plain": [
              "'tell you some stuff about me'"
            ]
          },
          "metadata": {
            "tags": []
          },
          "execution_count": 15
        }
      ]
    },
    {
      "cell_type": "code",
      "metadata": {
        "id": "AZUPsTgNh1DH",
        "colab_type": "code",
        "colab": {
          "base_uri": "https://localhost:8080/",
          "height": 514
        },
        "outputId": "94e24548-e203-4fec-9182-5db6f7ca8752"
      },
      "source": [
        "df['lemmatized_text']=df['Context'].apply(text_normalization) # applying the fuction to the dataset to get clean text\n",
        "df.tail(15)"
      ],
      "execution_count": 16,
      "outputs": [
        {
          "output_type": "execute_result",
          "data": {
            "text/html": [
              "<div>\n",
              "<style scoped>\n",
              "    .dataframe tbody tr th:only-of-type {\n",
              "        vertical-align: middle;\n",
              "    }\n",
              "\n",
              "    .dataframe tbody tr th {\n",
              "        vertical-align: top;\n",
              "    }\n",
              "\n",
              "    .dataframe thead th {\n",
              "        text-align: right;\n",
              "    }\n",
              "</style>\n",
              "<table border=\"1\" class=\"dataframe\">\n",
              "  <thead>\n",
              "    <tr style=\"text-align: right;\">\n",
              "      <th></th>\n",
              "      <th>Context</th>\n",
              "      <th>Text Response</th>\n",
              "      <th>lemmatized_text</th>\n",
              "    </tr>\n",
              "  </thead>\n",
              "  <tbody>\n",
              "    <tr>\n",
              "      <th>1577</th>\n",
              "      <td>I need to talk to you</td>\n",
              "      <td>Good conversation really makes my day.</td>\n",
              "      <td>i need to talk to you</td>\n",
              "    </tr>\n",
              "    <tr>\n",
              "      <th>1578</th>\n",
              "      <td>I want to speak with you</td>\n",
              "      <td>I'm always here to lend an ear.</td>\n",
              "      <td>i want to speak with you</td>\n",
              "    </tr>\n",
              "    <tr>\n",
              "      <th>1579</th>\n",
              "      <td>let's have a discussion</td>\n",
              "      <td>Talking is what I do best.</td>\n",
              "      <td>let have a discussion</td>\n",
              "    </tr>\n",
              "    <tr>\n",
              "      <th>1580</th>\n",
              "      <td>I just want to talk</td>\n",
              "      <td>Talking is what I do best.</td>\n",
              "      <td>i just want to talk</td>\n",
              "    </tr>\n",
              "    <tr>\n",
              "      <th>1581</th>\n",
              "      <td>let's discuss something</td>\n",
              "      <td>Talking is what I do best.</td>\n",
              "      <td>let discuss something</td>\n",
              "    </tr>\n",
              "    <tr>\n",
              "      <th>1582</th>\n",
              "      <td>can I speak</td>\n",
              "      <td>Talking is what I do best.</td>\n",
              "      <td>can i speak</td>\n",
              "    </tr>\n",
              "    <tr>\n",
              "      <th>1583</th>\n",
              "      <td>can we talk</td>\n",
              "      <td>Talking is what I do best.</td>\n",
              "      <td>can we talk</td>\n",
              "    </tr>\n",
              "    <tr>\n",
              "      <th>1584</th>\n",
              "      <td>let's talk</td>\n",
              "      <td>Talking is what I do best.</td>\n",
              "      <td>let talk</td>\n",
              "    </tr>\n",
              "    <tr>\n",
              "      <th>1585</th>\n",
              "      <td>I want to talk to you</td>\n",
              "      <td>Talking is what I do best.</td>\n",
              "      <td>i want to talk to you</td>\n",
              "    </tr>\n",
              "    <tr>\n",
              "      <th>1586</th>\n",
              "      <td>can we chat</td>\n",
              "      <td>Talking is what I do best.</td>\n",
              "      <td>can we chat</td>\n",
              "    </tr>\n",
              "    <tr>\n",
              "      <th>1587</th>\n",
              "      <td>can we chat</td>\n",
              "      <td>Talking is what I do best.</td>\n",
              "      <td>can we chat</td>\n",
              "    </tr>\n",
              "    <tr>\n",
              "      <th>1588</th>\n",
              "      <td>I'll be back in a few minutes</td>\n",
              "      <td>I'll be waiting.</td>\n",
              "      <td>ill be back in a few minute</td>\n",
              "    </tr>\n",
              "    <tr>\n",
              "      <th>1589</th>\n",
              "      <td>I'll be back</td>\n",
              "      <td>All right. I'll be here.</td>\n",
              "      <td>ill be back</td>\n",
              "    </tr>\n",
              "    <tr>\n",
              "      <th>1590</th>\n",
              "      <td>I'll get back to you in a moment</td>\n",
              "      <td>Till next time.</td>\n",
              "      <td>ill get back to you in a moment</td>\n",
              "    </tr>\n",
              "    <tr>\n",
              "      <th>1591</th>\n",
              "      <td>I promise to come back</td>\n",
              "      <td>Okay. You know where to find me.</td>\n",
              "      <td>i promise to come back</td>\n",
              "    </tr>\n",
              "  </tbody>\n",
              "</table>\n",
              "</div>"
            ],
            "text/plain": [
              "                               Context  ...                  lemmatized_text\n",
              "1577             I need to talk to you  ...            i need to talk to you\n",
              "1578          I want to speak with you  ...         i want to speak with you\n",
              "1579           let's have a discussion  ...            let have a discussion\n",
              "1580               I just want to talk  ...              i just want to talk\n",
              "1581           let's discuss something  ...            let discuss something\n",
              "1582                       can I speak  ...                      can i speak\n",
              "1583                       can we talk  ...                      can we talk\n",
              "1584                        let's talk  ...                         let talk\n",
              "1585             I want to talk to you  ...            i want to talk to you\n",
              "1586                       can we chat  ...                      can we chat\n",
              "1587                       can we chat  ...                      can we chat\n",
              "1588     I'll be back in a few minutes  ...      ill be back in a few minute\n",
              "1589                      I'll be back  ...                      ill be back\n",
              "1590  I'll get back to you in a moment  ...  ill get back to you in a moment\n",
              "1591            I promise to come back  ...           i promise to come back\n",
              "\n",
              "[15 rows x 3 columns]"
            ]
          },
          "metadata": {
            "tags": []
          },
          "execution_count": 16
        }
      ]
    },
    {
      "cell_type": "code",
      "metadata": {
        "id": "SNfeB1bQh1DK",
        "colab_type": "code",
        "colab": {
          "base_uri": "https://localhost:8080/",
          "height": 54
        },
        "outputId": "dd0fde65-1117-4a47-f62c-f8453eaf907b"
      },
      "source": [
        "# all the stop words we have \n",
        "\n",
        "stop = stopwords.words('english')\n",
        "print(stop)"
      ],
      "execution_count": 17,
      "outputs": [
        {
          "output_type": "stream",
          "text": [
            "['i', 'me', 'my', 'myself', 'we', 'our', 'ours', 'ourselves', 'you', \"you're\", \"you've\", \"you'll\", \"you'd\", 'your', 'yours', 'yourself', 'yourselves', 'he', 'him', 'his', 'himself', 'she', \"she's\", 'her', 'hers', 'herself', 'it', \"it's\", 'its', 'itself', 'they', 'them', 'their', 'theirs', 'themselves', 'what', 'which', 'who', 'whom', 'this', 'that', \"that'll\", 'these', 'those', 'am', 'is', 'are', 'was', 'were', 'be', 'been', 'being', 'have', 'has', 'had', 'having', 'do', 'does', 'did', 'doing', 'a', 'an', 'the', 'and', 'but', 'if', 'or', 'because', 'as', 'until', 'while', 'of', 'at', 'by', 'for', 'with', 'about', 'against', 'between', 'into', 'through', 'during', 'before', 'after', 'above', 'below', 'to', 'from', 'up', 'down', 'in', 'out', 'on', 'off', 'over', 'under', 'again', 'further', 'then', 'once', 'here', 'there', 'when', 'where', 'why', 'how', 'all', 'any', 'both', 'each', 'few', 'more', 'most', 'other', 'some', 'such', 'no', 'nor', 'not', 'only', 'own', 'same', 'so', 'than', 'too', 'very', 's', 't', 'can', 'will', 'just', 'don', \"don't\", 'should', \"should've\", 'now', 'd', 'll', 'm', 'o', 're', 've', 'y', 'ain', 'aren', \"aren't\", 'couldn', \"couldn't\", 'didn', \"didn't\", 'doesn', \"doesn't\", 'hadn', \"hadn't\", 'hasn', \"hasn't\", 'haven', \"haven't\", 'isn', \"isn't\", 'ma', 'mightn', \"mightn't\", 'mustn', \"mustn't\", 'needn', \"needn't\", 'shan', \"shan't\", 'shouldn', \"shouldn't\", 'wasn', \"wasn't\", 'weren', \"weren't\", 'won', \"won't\", 'wouldn', \"wouldn't\"]\n"
          ],
          "name": "stdout"
        }
      ]
    },
    {
      "cell_type": "markdown",
      "metadata": {
        "id": "_WnF5DqZNklq",
        "colab_type": "text"
      },
      "source": [
        "#Setup "
      ]
    },
    {
      "cell_type": "markdown",
      "metadata": {
        "id": "2I6kmORdh1DN",
        "colab_type": "text"
      },
      "source": [
        "##Bag of Words "
      ]
    },
    {
      "cell_type": "code",
      "metadata": {
        "id": "eu-7RAv2h1DN",
        "colab_type": "code",
        "colab": {}
      },
      "source": [
        "cv = CountVectorizer() # intializing the count vectorizer\n",
        "X = cv.fit_transform(df['lemmatized_text']).toarray() "
      ],
      "execution_count": 18,
      "outputs": []
    },
    {
      "cell_type": "code",
      "metadata": {
        "id": "LcRBfRBXh1DQ",
        "colab_type": "code",
        "colab": {
          "base_uri": "https://localhost:8080/",
          "height": 253
        },
        "outputId": "a786c65a-6948-420b-badc-7096218821bb"
      },
      "source": [
        "# returns all the unique word from data \n",
        "\n",
        "features = cv.get_feature_names()\n",
        "df_bow = pd.DataFrame(X, columns = features)\n",
        "df_bow.head()"
      ],
      "execution_count": 19,
      "outputs": [
        {
          "output_type": "execute_result",
          "data": {
            "text/html": [
              "<div>\n",
              "<style scoped>\n",
              "    .dataframe tbody tr th:only-of-type {\n",
              "        vertical-align: middle;\n",
              "    }\n",
              "\n",
              "    .dataframe tbody tr th {\n",
              "        vertical-align: top;\n",
              "    }\n",
              "\n",
              "    .dataframe thead th {\n",
              "        text-align: right;\n",
              "    }\n",
              "</style>\n",
              "<table border=\"1\" class=\"dataframe\">\n",
              "  <thead>\n",
              "    <tr style=\"text-align: right;\">\n",
              "      <th></th>\n",
              "      <th>abort</th>\n",
              "      <th>about</th>\n",
              "      <th>absolutely</th>\n",
              "      <th>abysmal</th>\n",
              "      <th>actually</th>\n",
              "      <th>adore</th>\n",
              "      <th>advice</th>\n",
              "      <th>advise</th>\n",
              "      <th>affirmative</th>\n",
              "      <th>afraid</th>\n",
              "      <th>afternoon</th>\n",
              "      <th>again</th>\n",
              "      <th>age</th>\n",
              "      <th>agree</th>\n",
              "      <th>ah</th>\n",
              "      <th>ahah</th>\n",
              "      <th>ahaha</th>\n",
              "      <th>ahahah</th>\n",
              "      <th>ahahaha</th>\n",
              "      <th>ahead</th>\n",
              "      <th>all</th>\n",
              "      <th>almost</th>\n",
              "      <th>alone</th>\n",
              "      <th>already</th>\n",
              "      <th>alright</th>\n",
              "      <th>alrighty</th>\n",
              "      <th>also</th>\n",
              "      <th>always</th>\n",
              "      <th>amaze</th>\n",
              "      <th>amazing</th>\n",
              "      <th>an</th>\n",
              "      <th>and</th>\n",
              "      <th>angry</th>\n",
              "      <th>annoy</th>\n",
              "      <th>annoying</th>\n",
              "      <th>annul</th>\n",
              "      <th>answer</th>\n",
              "      <th>any</th>\n",
              "      <th>anymore</th>\n",
              "      <th>anything</th>\n",
              "      <th>...</th>\n",
              "      <th>whats</th>\n",
              "      <th>whazzup</th>\n",
              "      <th>when</th>\n",
              "      <th>where</th>\n",
              "      <th>wheres</th>\n",
              "      <th>which</th>\n",
              "      <th>who</th>\n",
              "      <th>whole</th>\n",
              "      <th>why</th>\n",
              "      <th>wife</th>\n",
              "      <th>will</th>\n",
              "      <th>wise</th>\n",
              "      <th>with</th>\n",
              "      <th>woah</th>\n",
              "      <th>wonderful</th>\n",
              "      <th>wooow</th>\n",
              "      <th>work</th>\n",
              "      <th>world</th>\n",
              "      <th>worry</th>\n",
              "      <th>worthless</th>\n",
              "      <th>would</th>\n",
              "      <th>wow</th>\n",
              "      <th>wrong</th>\n",
              "      <th>xd</th>\n",
              "      <th>ya</th>\n",
              "      <th>yap</th>\n",
              "      <th>ye</th>\n",
              "      <th>yea</th>\n",
              "      <th>yeah</th>\n",
              "      <th>year</th>\n",
              "      <th>yeh</th>\n",
              "      <th>yep</th>\n",
              "      <th>yes</th>\n",
              "      <th>yet</th>\n",
              "      <th>you</th>\n",
              "      <th>your</th>\n",
              "      <th>youre</th>\n",
              "      <th>yours</th>\n",
              "      <th>yourself</th>\n",
              "      <th>yup</th>\n",
              "    </tr>\n",
              "  </thead>\n",
              "  <tbody>\n",
              "    <tr>\n",
              "      <th>0</th>\n",
              "      <td>0</td>\n",
              "      <td>1</td>\n",
              "      <td>0</td>\n",
              "      <td>0</td>\n",
              "      <td>0</td>\n",
              "      <td>0</td>\n",
              "      <td>0</td>\n",
              "      <td>0</td>\n",
              "      <td>0</td>\n",
              "      <td>0</td>\n",
              "      <td>0</td>\n",
              "      <td>0</td>\n",
              "      <td>0</td>\n",
              "      <td>0</td>\n",
              "      <td>0</td>\n",
              "      <td>0</td>\n",
              "      <td>0</td>\n",
              "      <td>0</td>\n",
              "      <td>0</td>\n",
              "      <td>0</td>\n",
              "      <td>0</td>\n",
              "      <td>0</td>\n",
              "      <td>0</td>\n",
              "      <td>0</td>\n",
              "      <td>0</td>\n",
              "      <td>0</td>\n",
              "      <td>0</td>\n",
              "      <td>0</td>\n",
              "      <td>0</td>\n",
              "      <td>0</td>\n",
              "      <td>0</td>\n",
              "      <td>0</td>\n",
              "      <td>0</td>\n",
              "      <td>0</td>\n",
              "      <td>0</td>\n",
              "      <td>0</td>\n",
              "      <td>0</td>\n",
              "      <td>0</td>\n",
              "      <td>0</td>\n",
              "      <td>0</td>\n",
              "      <td>...</td>\n",
              "      <td>0</td>\n",
              "      <td>0</td>\n",
              "      <td>0</td>\n",
              "      <td>0</td>\n",
              "      <td>0</td>\n",
              "      <td>0</td>\n",
              "      <td>0</td>\n",
              "      <td>0</td>\n",
              "      <td>0</td>\n",
              "      <td>0</td>\n",
              "      <td>0</td>\n",
              "      <td>0</td>\n",
              "      <td>0</td>\n",
              "      <td>0</td>\n",
              "      <td>0</td>\n",
              "      <td>0</td>\n",
              "      <td>0</td>\n",
              "      <td>0</td>\n",
              "      <td>0</td>\n",
              "      <td>0</td>\n",
              "      <td>0</td>\n",
              "      <td>0</td>\n",
              "      <td>0</td>\n",
              "      <td>0</td>\n",
              "      <td>0</td>\n",
              "      <td>0</td>\n",
              "      <td>0</td>\n",
              "      <td>0</td>\n",
              "      <td>0</td>\n",
              "      <td>0</td>\n",
              "      <td>0</td>\n",
              "      <td>0</td>\n",
              "      <td>0</td>\n",
              "      <td>0</td>\n",
              "      <td>0</td>\n",
              "      <td>1</td>\n",
              "      <td>0</td>\n",
              "      <td>0</td>\n",
              "      <td>0</td>\n",
              "      <td>0</td>\n",
              "    </tr>\n",
              "    <tr>\n",
              "      <th>1</th>\n",
              "      <td>0</td>\n",
              "      <td>0</td>\n",
              "      <td>0</td>\n",
              "      <td>0</td>\n",
              "      <td>0</td>\n",
              "      <td>0</td>\n",
              "      <td>0</td>\n",
              "      <td>0</td>\n",
              "      <td>0</td>\n",
              "      <td>0</td>\n",
              "      <td>0</td>\n",
              "      <td>0</td>\n",
              "      <td>0</td>\n",
              "      <td>0</td>\n",
              "      <td>0</td>\n",
              "      <td>0</td>\n",
              "      <td>0</td>\n",
              "      <td>0</td>\n",
              "      <td>0</td>\n",
              "      <td>0</td>\n",
              "      <td>0</td>\n",
              "      <td>0</td>\n",
              "      <td>0</td>\n",
              "      <td>0</td>\n",
              "      <td>0</td>\n",
              "      <td>0</td>\n",
              "      <td>0</td>\n",
              "      <td>0</td>\n",
              "      <td>0</td>\n",
              "      <td>0</td>\n",
              "      <td>0</td>\n",
              "      <td>0</td>\n",
              "      <td>0</td>\n",
              "      <td>0</td>\n",
              "      <td>0</td>\n",
              "      <td>0</td>\n",
              "      <td>0</td>\n",
              "      <td>0</td>\n",
              "      <td>0</td>\n",
              "      <td>0</td>\n",
              "      <td>...</td>\n",
              "      <td>0</td>\n",
              "      <td>0</td>\n",
              "      <td>0</td>\n",
              "      <td>0</td>\n",
              "      <td>0</td>\n",
              "      <td>0</td>\n",
              "      <td>0</td>\n",
              "      <td>0</td>\n",
              "      <td>0</td>\n",
              "      <td>0</td>\n",
              "      <td>0</td>\n",
              "      <td>0</td>\n",
              "      <td>0</td>\n",
              "      <td>0</td>\n",
              "      <td>0</td>\n",
              "      <td>0</td>\n",
              "      <td>0</td>\n",
              "      <td>0</td>\n",
              "      <td>0</td>\n",
              "      <td>0</td>\n",
              "      <td>0</td>\n",
              "      <td>0</td>\n",
              "      <td>0</td>\n",
              "      <td>0</td>\n",
              "      <td>0</td>\n",
              "      <td>0</td>\n",
              "      <td>0</td>\n",
              "      <td>0</td>\n",
              "      <td>0</td>\n",
              "      <td>0</td>\n",
              "      <td>0</td>\n",
              "      <td>0</td>\n",
              "      <td>0</td>\n",
              "      <td>0</td>\n",
              "      <td>1</td>\n",
              "      <td>0</td>\n",
              "      <td>0</td>\n",
              "      <td>0</td>\n",
              "      <td>0</td>\n",
              "      <td>0</td>\n",
              "    </tr>\n",
              "    <tr>\n",
              "      <th>2</th>\n",
              "      <td>0</td>\n",
              "      <td>0</td>\n",
              "      <td>0</td>\n",
              "      <td>0</td>\n",
              "      <td>0</td>\n",
              "      <td>0</td>\n",
              "      <td>0</td>\n",
              "      <td>0</td>\n",
              "      <td>0</td>\n",
              "      <td>0</td>\n",
              "      <td>0</td>\n",
              "      <td>0</td>\n",
              "      <td>0</td>\n",
              "      <td>0</td>\n",
              "      <td>0</td>\n",
              "      <td>0</td>\n",
              "      <td>0</td>\n",
              "      <td>0</td>\n",
              "      <td>0</td>\n",
              "      <td>0</td>\n",
              "      <td>0</td>\n",
              "      <td>0</td>\n",
              "      <td>0</td>\n",
              "      <td>0</td>\n",
              "      <td>0</td>\n",
              "      <td>0</td>\n",
              "      <td>0</td>\n",
              "      <td>0</td>\n",
              "      <td>0</td>\n",
              "      <td>0</td>\n",
              "      <td>0</td>\n",
              "      <td>0</td>\n",
              "      <td>0</td>\n",
              "      <td>0</td>\n",
              "      <td>0</td>\n",
              "      <td>0</td>\n",
              "      <td>0</td>\n",
              "      <td>0</td>\n",
              "      <td>0</td>\n",
              "      <td>0</td>\n",
              "      <td>...</td>\n",
              "      <td>0</td>\n",
              "      <td>0</td>\n",
              "      <td>0</td>\n",
              "      <td>0</td>\n",
              "      <td>0</td>\n",
              "      <td>0</td>\n",
              "      <td>0</td>\n",
              "      <td>0</td>\n",
              "      <td>0</td>\n",
              "      <td>0</td>\n",
              "      <td>0</td>\n",
              "      <td>0</td>\n",
              "      <td>0</td>\n",
              "      <td>0</td>\n",
              "      <td>0</td>\n",
              "      <td>0</td>\n",
              "      <td>0</td>\n",
              "      <td>0</td>\n",
              "      <td>0</td>\n",
              "      <td>0</td>\n",
              "      <td>0</td>\n",
              "      <td>0</td>\n",
              "      <td>0</td>\n",
              "      <td>0</td>\n",
              "      <td>0</td>\n",
              "      <td>0</td>\n",
              "      <td>0</td>\n",
              "      <td>0</td>\n",
              "      <td>0</td>\n",
              "      <td>0</td>\n",
              "      <td>0</td>\n",
              "      <td>0</td>\n",
              "      <td>0</td>\n",
              "      <td>0</td>\n",
              "      <td>0</td>\n",
              "      <td>0</td>\n",
              "      <td>0</td>\n",
              "      <td>0</td>\n",
              "      <td>1</td>\n",
              "      <td>0</td>\n",
              "    </tr>\n",
              "    <tr>\n",
              "      <th>3</th>\n",
              "      <td>0</td>\n",
              "      <td>0</td>\n",
              "      <td>0</td>\n",
              "      <td>0</td>\n",
              "      <td>0</td>\n",
              "      <td>0</td>\n",
              "      <td>0</td>\n",
              "      <td>0</td>\n",
              "      <td>0</td>\n",
              "      <td>0</td>\n",
              "      <td>0</td>\n",
              "      <td>0</td>\n",
              "      <td>0</td>\n",
              "      <td>0</td>\n",
              "      <td>0</td>\n",
              "      <td>0</td>\n",
              "      <td>0</td>\n",
              "      <td>0</td>\n",
              "      <td>0</td>\n",
              "      <td>0</td>\n",
              "      <td>0</td>\n",
              "      <td>0</td>\n",
              "      <td>0</td>\n",
              "      <td>0</td>\n",
              "      <td>0</td>\n",
              "      <td>0</td>\n",
              "      <td>0</td>\n",
              "      <td>0</td>\n",
              "      <td>0</td>\n",
              "      <td>0</td>\n",
              "      <td>0</td>\n",
              "      <td>0</td>\n",
              "      <td>0</td>\n",
              "      <td>0</td>\n",
              "      <td>0</td>\n",
              "      <td>0</td>\n",
              "      <td>0</td>\n",
              "      <td>0</td>\n",
              "      <td>0</td>\n",
              "      <td>0</td>\n",
              "      <td>...</td>\n",
              "      <td>0</td>\n",
              "      <td>0</td>\n",
              "      <td>0</td>\n",
              "      <td>0</td>\n",
              "      <td>0</td>\n",
              "      <td>0</td>\n",
              "      <td>0</td>\n",
              "      <td>0</td>\n",
              "      <td>0</td>\n",
              "      <td>0</td>\n",
              "      <td>0</td>\n",
              "      <td>0</td>\n",
              "      <td>0</td>\n",
              "      <td>0</td>\n",
              "      <td>0</td>\n",
              "      <td>0</td>\n",
              "      <td>0</td>\n",
              "      <td>0</td>\n",
              "      <td>0</td>\n",
              "      <td>0</td>\n",
              "      <td>0</td>\n",
              "      <td>0</td>\n",
              "      <td>0</td>\n",
              "      <td>0</td>\n",
              "      <td>0</td>\n",
              "      <td>0</td>\n",
              "      <td>0</td>\n",
              "      <td>0</td>\n",
              "      <td>0</td>\n",
              "      <td>0</td>\n",
              "      <td>0</td>\n",
              "      <td>0</td>\n",
              "      <td>0</td>\n",
              "      <td>0</td>\n",
              "      <td>0</td>\n",
              "      <td>0</td>\n",
              "      <td>0</td>\n",
              "      <td>0</td>\n",
              "      <td>1</td>\n",
              "      <td>0</td>\n",
              "    </tr>\n",
              "    <tr>\n",
              "      <th>4</th>\n",
              "      <td>0</td>\n",
              "      <td>1</td>\n",
              "      <td>0</td>\n",
              "      <td>0</td>\n",
              "      <td>0</td>\n",
              "      <td>0</td>\n",
              "      <td>0</td>\n",
              "      <td>0</td>\n",
              "      <td>0</td>\n",
              "      <td>0</td>\n",
              "      <td>0</td>\n",
              "      <td>0</td>\n",
              "      <td>0</td>\n",
              "      <td>0</td>\n",
              "      <td>0</td>\n",
              "      <td>0</td>\n",
              "      <td>0</td>\n",
              "      <td>0</td>\n",
              "      <td>0</td>\n",
              "      <td>0</td>\n",
              "      <td>0</td>\n",
              "      <td>0</td>\n",
              "      <td>0</td>\n",
              "      <td>0</td>\n",
              "      <td>0</td>\n",
              "      <td>0</td>\n",
              "      <td>0</td>\n",
              "      <td>0</td>\n",
              "      <td>0</td>\n",
              "      <td>0</td>\n",
              "      <td>0</td>\n",
              "      <td>0</td>\n",
              "      <td>0</td>\n",
              "      <td>0</td>\n",
              "      <td>0</td>\n",
              "      <td>0</td>\n",
              "      <td>0</td>\n",
              "      <td>0</td>\n",
              "      <td>0</td>\n",
              "      <td>0</td>\n",
              "      <td>...</td>\n",
              "      <td>0</td>\n",
              "      <td>0</td>\n",
              "      <td>0</td>\n",
              "      <td>0</td>\n",
              "      <td>0</td>\n",
              "      <td>0</td>\n",
              "      <td>0</td>\n",
              "      <td>0</td>\n",
              "      <td>0</td>\n",
              "      <td>0</td>\n",
              "      <td>0</td>\n",
              "      <td>0</td>\n",
              "      <td>0</td>\n",
              "      <td>0</td>\n",
              "      <td>0</td>\n",
              "      <td>0</td>\n",
              "      <td>0</td>\n",
              "      <td>0</td>\n",
              "      <td>0</td>\n",
              "      <td>0</td>\n",
              "      <td>0</td>\n",
              "      <td>0</td>\n",
              "      <td>0</td>\n",
              "      <td>0</td>\n",
              "      <td>0</td>\n",
              "      <td>0</td>\n",
              "      <td>0</td>\n",
              "      <td>0</td>\n",
              "      <td>0</td>\n",
              "      <td>0</td>\n",
              "      <td>0</td>\n",
              "      <td>0</td>\n",
              "      <td>0</td>\n",
              "      <td>0</td>\n",
              "      <td>0</td>\n",
              "      <td>0</td>\n",
              "      <td>0</td>\n",
              "      <td>0</td>\n",
              "      <td>1</td>\n",
              "      <td>0</td>\n",
              "    </tr>\n",
              "  </tbody>\n",
              "</table>\n",
              "<p>5 rows × 505 columns</p>\n",
              "</div>"
            ],
            "text/plain": [
              "   abort  about  absolutely  abysmal  ...  youre  yours  yourself  yup\n",
              "0      0      1           0        0  ...      0      0         0    0\n",
              "1      0      0           0        0  ...      0      0         0    0\n",
              "2      0      0           0        0  ...      0      0         1    0\n",
              "3      0      0           0        0  ...      0      0         1    0\n",
              "4      0      1           0        0  ...      0      0         1    0\n",
              "\n",
              "[5 rows x 505 columns]"
            ]
          },
          "metadata": {
            "tags": []
          },
          "execution_count": 19
        }
      ]
    },
    {
      "cell_type": "code",
      "metadata": {
        "id": "Ze7ySx-Xh1DT",
        "colab_type": "code",
        "colab": {}
      },
      "source": [
        "Question ='Will you help me and tell me about yourself more' # considering an example query"
      ],
      "execution_count": 20,
      "outputs": []
    },
    {
      "cell_type": "code",
      "metadata": {
        "id": "UL8fHKRrh1DY",
        "colab_type": "code",
        "colab": {}
      },
      "source": [
        "# checking for stop words\n",
        "\n",
        "Q=[]\n",
        "a=Question.split()\n",
        "for i in a:\n",
        "    if i in stop:\n",
        "        continue\n",
        "    else:\n",
        "        Q.append(i)\n",
        "    b=\" \".join(Q) "
      ],
      "execution_count": 21,
      "outputs": []
    },
    {
      "cell_type": "code",
      "metadata": {
        "id": "QT2JPEK5h1Db",
        "colab_type": "code",
        "colab": {}
      },
      "source": [
        "Question_lemma = text_normalization(b) # applying the function that we created for text normalizing\n",
        "Question_bow = cv.transform([Question_lemma]).toarray() # applying bow"
      ],
      "execution_count": 22,
      "outputs": []
    },
    {
      "cell_type": "code",
      "metadata": {
        "id": "b8nJZzumh1Dd",
        "colab_type": "code",
        "colab": {
          "base_uri": "https://localhost:8080/",
          "height": 34
        },
        "outputId": "c4e3ec4c-c275-431a-9ae2-c3f319905c55"
      },
      "source": [
        "text_normalization"
      ],
      "execution_count": 23,
      "outputs": [
        {
          "output_type": "execute_result",
          "data": {
            "text/plain": [
              "<function __main__.text_normalization>"
            ]
          },
          "metadata": {
            "tags": []
          },
          "execution_count": 23
        }
      ]
    },
    {
      "cell_type": "code",
      "metadata": {
        "id": "I4CaOdm7h1Dg",
        "colab_type": "code",
        "colab": {
          "base_uri": "https://localhost:8080/",
          "height": 408
        },
        "outputId": "e7df15b6-2c1f-4972-9d5e-7ed640b94749"
      },
      "source": [
        "Question_bow"
      ],
      "execution_count": 24,
      "outputs": [
        {
          "output_type": "execute_result",
          "data": {
            "text/plain": [
              "array([[0, 0, 0, 0, 0, 0, 0, 0, 0, 0, 0, 0, 0, 0, 0, 0, 0, 0, 0, 0, 0, 0,\n",
              "        0, 0, 0, 0, 0, 0, 0, 0, 0, 0, 0, 0, 0, 0, 0, 0, 0, 0, 0, 0, 0, 0,\n",
              "        0, 0, 0, 0, 0, 0, 0, 0, 0, 0, 0, 0, 0, 0, 0, 0, 0, 0, 0, 0, 0, 0,\n",
              "        0, 0, 0, 0, 0, 0, 0, 0, 0, 0, 0, 0, 0, 0, 0, 0, 0, 0, 0, 0, 0, 0,\n",
              "        0, 0, 0, 0, 0, 0, 0, 0, 0, 0, 0, 0, 0, 0, 0, 0, 0, 0, 0, 0, 0, 0,\n",
              "        0, 0, 0, 0, 0, 0, 0, 0, 0, 0, 0, 0, 0, 0, 0, 0, 0, 0, 0, 0, 0, 0,\n",
              "        0, 0, 0, 0, 0, 0, 0, 0, 0, 0, 0, 0, 0, 0, 0, 0, 0, 0, 0, 0, 0, 0,\n",
              "        0, 0, 0, 0, 0, 0, 0, 0, 0, 0, 0, 0, 0, 0, 0, 0, 0, 0, 0, 0, 0, 0,\n",
              "        0, 0, 0, 0, 0, 0, 0, 0, 0, 0, 0, 0, 0, 0, 0, 0, 0, 0, 0, 0, 0, 0,\n",
              "        0, 0, 0, 1, 0, 0, 0, 0, 0, 0, 0, 0, 0, 0, 0, 0, 0, 0, 0, 0, 0, 0,\n",
              "        0, 0, 0, 0, 0, 0, 0, 0, 0, 0, 0, 0, 0, 0, 0, 0, 0, 0, 0, 0, 0, 0,\n",
              "        0, 0, 0, 0, 0, 0, 0, 0, 0, 0, 0, 0, 0, 0, 0, 0, 0, 0, 0, 0, 0, 0,\n",
              "        0, 0, 0, 0, 0, 0, 0, 0, 0, 0, 0, 0, 0, 0, 0, 0, 0, 0, 0, 0, 0, 0,\n",
              "        0, 0, 0, 0, 0, 0, 0, 0, 0, 0, 0, 0, 0, 0, 0, 0, 0, 0, 0, 0, 0, 0,\n",
              "        0, 0, 0, 0, 0, 0, 0, 0, 0, 0, 0, 0, 0, 0, 0, 0, 0, 0, 0, 0, 0, 0,\n",
              "        0, 0, 0, 0, 0, 0, 0, 0, 0, 0, 0, 0, 0, 0, 0, 0, 0, 0, 0, 0, 0, 0,\n",
              "        0, 0, 0, 0, 0, 0, 0, 0, 0, 0, 0, 0, 0, 0, 0, 0, 0, 0, 0, 0, 0, 0,\n",
              "        0, 0, 0, 0, 0, 0, 0, 0, 0, 0, 0, 0, 0, 0, 0, 0, 0, 0, 0, 0, 0, 0,\n",
              "        0, 0, 0, 0, 0, 0, 0, 0, 0, 0, 0, 0, 1, 0, 0, 0, 0, 0, 0, 0, 0, 0,\n",
              "        0, 0, 0, 0, 0, 0, 0, 0, 0, 0, 0, 0, 0, 0, 0, 0, 0, 0, 0, 0, 0, 0,\n",
              "        0, 0, 0, 0, 0, 0, 0, 0, 0, 0, 0, 0, 0, 0, 0, 0, 0, 0, 0, 0, 0, 0,\n",
              "        0, 0, 0, 0, 0, 0, 0, 0, 0, 0, 0, 0, 0, 1, 0, 0, 0, 0, 0, 0, 0, 0,\n",
              "        0, 0, 0, 0, 0, 0, 0, 0, 0, 0, 0, 0, 0, 0, 0, 0, 0, 0, 0, 0, 0]])"
            ]
          },
          "metadata": {
            "tags": []
          },
          "execution_count": 24
        }
      ]
    },
    {
      "cell_type": "markdown",
      "metadata": {
        "id": "HJs20VHYh1Di",
        "colab_type": "text"
      },
      "source": [
        "## Cosine similarity\n",
        "\n",
        "\n",
        "evaluates similarity by returning $cos(\\theta)$ between the two vectors (helps to establish a relationship between the data)"
      ]
    },
    {
      "cell_type": "code",
      "metadata": {
        "id": "-qFJr30wh1Dj",
        "colab_type": "code",
        "colab": {
          "base_uri": "https://localhost:8080/",
          "height": 136
        },
        "outputId": "ac37c129-7daf-4b5b-daaf-0112ff4d02dc"
      },
      "source": [
        "# cosine similarity for the above question we considered.\n",
        "\n",
        "cosine_value = 1- pairwise_distances(df_bow, Question_bow, metric = 'cosine' )\n",
        "(cosine_value)"
      ],
      "execution_count": 25,
      "outputs": [
        {
          "output_type": "execute_result",
          "data": {
            "text/plain": [
              "array([[0.25819889],\n",
              "       [0.        ],\n",
              "       [0.        ],\n",
              "       ...,\n",
              "       [0.        ],\n",
              "       [0.        ],\n",
              "       [0.        ]])"
            ]
          },
          "metadata": {
            "tags": []
          },
          "execution_count": 25
        }
      ]
    },
    {
      "cell_type": "code",
      "metadata": {
        "id": "-I2rbeovh1Dm",
        "colab_type": "code",
        "colab": {}
      },
      "source": [
        "df['similarity_bow']=cosine_value # creating a new column "
      ],
      "execution_count": 26,
      "outputs": []
    },
    {
      "cell_type": "code",
      "metadata": {
        "id": "iWdRsgJRh1Dp",
        "colab_type": "code",
        "colab": {
          "base_uri": "https://localhost:8080/",
          "height": 419
        },
        "outputId": "67084994-5812-4983-8b5d-279a13567497"
      },
      "source": [
        "df_simi = pd.DataFrame(df, columns=['Text Response','similarity_bow']) # taking similarity value of responses for the question we took\n",
        "df_simi "
      ],
      "execution_count": 27,
      "outputs": [
        {
          "output_type": "execute_result",
          "data": {
            "text/html": [
              "<div>\n",
              "<style scoped>\n",
              "    .dataframe tbody tr th:only-of-type {\n",
              "        vertical-align: middle;\n",
              "    }\n",
              "\n",
              "    .dataframe tbody tr th {\n",
              "        vertical-align: top;\n",
              "    }\n",
              "\n",
              "    .dataframe thead th {\n",
              "        text-align: right;\n",
              "    }\n",
              "</style>\n",
              "<table border=\"1\" class=\"dataframe\">\n",
              "  <thead>\n",
              "    <tr style=\"text-align: right;\">\n",
              "      <th></th>\n",
              "      <th>Text Response</th>\n",
              "      <th>similarity_bow</th>\n",
              "    </tr>\n",
              "  </thead>\n",
              "  <tbody>\n",
              "    <tr>\n",
              "      <th>0</th>\n",
              "      <td>Just think of me as the ace up your sleeve.</td>\n",
              "      <td>0.258199</td>\n",
              "    </tr>\n",
              "    <tr>\n",
              "      <th>1</th>\n",
              "      <td>I can help you work smarter instead of harder</td>\n",
              "      <td>0.000000</td>\n",
              "    </tr>\n",
              "    <tr>\n",
              "      <th>2</th>\n",
              "      <td>I can help you work smarter instead of harder</td>\n",
              "      <td>0.000000</td>\n",
              "    </tr>\n",
              "    <tr>\n",
              "      <th>3</th>\n",
              "      <td>I can help you work smarter instead of harder</td>\n",
              "      <td>0.000000</td>\n",
              "    </tr>\n",
              "    <tr>\n",
              "      <th>4</th>\n",
              "      <td>I can help you work smarter instead of harder</td>\n",
              "      <td>0.288675</td>\n",
              "    </tr>\n",
              "    <tr>\n",
              "      <th>...</th>\n",
              "      <td>...</td>\n",
              "      <td>...</td>\n",
              "    </tr>\n",
              "    <tr>\n",
              "      <th>1587</th>\n",
              "      <td>Talking is what I do best.</td>\n",
              "      <td>0.000000</td>\n",
              "    </tr>\n",
              "    <tr>\n",
              "      <th>1588</th>\n",
              "      <td>I'll be waiting.</td>\n",
              "      <td>0.000000</td>\n",
              "    </tr>\n",
              "    <tr>\n",
              "      <th>1589</th>\n",
              "      <td>All right. I'll be here.</td>\n",
              "      <td>0.000000</td>\n",
              "    </tr>\n",
              "    <tr>\n",
              "      <th>1590</th>\n",
              "      <td>Till next time.</td>\n",
              "      <td>0.000000</td>\n",
              "    </tr>\n",
              "    <tr>\n",
              "      <th>1591</th>\n",
              "      <td>Okay. You know where to find me.</td>\n",
              "      <td>0.000000</td>\n",
              "    </tr>\n",
              "  </tbody>\n",
              "</table>\n",
              "<p>1592 rows × 2 columns</p>\n",
              "</div>"
            ],
            "text/plain": [
              "                                      Text Response  similarity_bow\n",
              "0       Just think of me as the ace up your sleeve.        0.258199\n",
              "1     I can help you work smarter instead of harder        0.000000\n",
              "2     I can help you work smarter instead of harder        0.000000\n",
              "3     I can help you work smarter instead of harder        0.000000\n",
              "4     I can help you work smarter instead of harder        0.288675\n",
              "...                                             ...             ...\n",
              "1587                     Talking is what I do best.        0.000000\n",
              "1588                               I'll be waiting.        0.000000\n",
              "1589                       All right. I'll be here.        0.000000\n",
              "1590                                Till next time.        0.000000\n",
              "1591               Okay. You know where to find me.        0.000000\n",
              "\n",
              "[1592 rows x 2 columns]"
            ]
          },
          "metadata": {
            "tags": []
          },
          "execution_count": 27
        }
      ]
    },
    {
      "cell_type": "code",
      "metadata": {
        "id": "sMa7Q2THh1Dt",
        "colab_type": "code",
        "colab": {
          "base_uri": "https://localhost:8080/",
          "height": 204
        },
        "outputId": "8b0e20ea-7d55-411b-d4ce-7c3a1ddbfe53"
      },
      "source": [
        "df_simi_sort = df_simi.sort_values(by='similarity_bow', ascending=False) # sorting the values\n",
        "df_simi_sort.head()"
      ],
      "execution_count": 28,
      "outputs": [
        {
          "output_type": "execute_result",
          "data": {
            "text/html": [
              "<div>\n",
              "<style scoped>\n",
              "    .dataframe tbody tr th:only-of-type {\n",
              "        vertical-align: middle;\n",
              "    }\n",
              "\n",
              "    .dataframe tbody tr th {\n",
              "        vertical-align: top;\n",
              "    }\n",
              "\n",
              "    .dataframe thead th {\n",
              "        text-align: right;\n",
              "    }\n",
              "</style>\n",
              "<table border=\"1\" class=\"dataframe\">\n",
              "  <thead>\n",
              "    <tr style=\"text-align: right;\">\n",
              "      <th></th>\n",
              "      <th>Text Response</th>\n",
              "      <th>similarity_bow</th>\n",
              "    </tr>\n",
              "  </thead>\n",
              "  <tbody>\n",
              "    <tr>\n",
              "      <th>211</th>\n",
              "      <td>I'm glad to help. What can I do for you?</td>\n",
              "      <td>0.577350</td>\n",
              "    </tr>\n",
              "    <tr>\n",
              "      <th>194</th>\n",
              "      <td>I'm glad to help. What can I do for you?</td>\n",
              "      <td>0.577350</td>\n",
              "    </tr>\n",
              "    <tr>\n",
              "      <th>184</th>\n",
              "      <td>I'm glad to help. What can I do for you?</td>\n",
              "      <td>0.408248</td>\n",
              "    </tr>\n",
              "    <tr>\n",
              "      <th>186</th>\n",
              "      <td>I'm glad to help. What can I do for you?</td>\n",
              "      <td>0.408248</td>\n",
              "    </tr>\n",
              "    <tr>\n",
              "      <th>200</th>\n",
              "      <td>I'm glad to help. What can I do for you?</td>\n",
              "      <td>0.408248</td>\n",
              "    </tr>\n",
              "  </tbody>\n",
              "</table>\n",
              "</div>"
            ],
            "text/plain": [
              "                                Text Response  similarity_bow\n",
              "211  I'm glad to help. What can I do for you?        0.577350\n",
              "194  I'm glad to help. What can I do for you?        0.577350\n",
              "184  I'm glad to help. What can I do for you?        0.408248\n",
              "186  I'm glad to help. What can I do for you?        0.408248\n",
              "200  I'm glad to help. What can I do for you?        0.408248"
            ]
          },
          "metadata": {
            "tags": []
          },
          "execution_count": 28
        }
      ]
    },
    {
      "cell_type": "code",
      "metadata": {
        "id": "jmb4d8NSh1Dw",
        "colab_type": "code",
        "colab": {
          "base_uri": "https://localhost:8080/",
          "height": 1000
        },
        "outputId": "9a419413-fcb8-4160-f012-37fbece97d9b"
      },
      "source": [
        "threshold = 0.2 # considering the value of p=smiliarity to be greater than 0.2\n",
        "df_threshold = df_simi_sort[df_simi_sort['similarity_bow'] > threshold] \n",
        "df_threshold"
      ],
      "execution_count": 29,
      "outputs": [
        {
          "output_type": "execute_result",
          "data": {
            "text/html": [
              "<div>\n",
              "<style scoped>\n",
              "    .dataframe tbody tr th:only-of-type {\n",
              "        vertical-align: middle;\n",
              "    }\n",
              "\n",
              "    .dataframe tbody tr th {\n",
              "        vertical-align: top;\n",
              "    }\n",
              "\n",
              "    .dataframe thead th {\n",
              "        text-align: right;\n",
              "    }\n",
              "</style>\n",
              "<table border=\"1\" class=\"dataframe\">\n",
              "  <thead>\n",
              "    <tr style=\"text-align: right;\">\n",
              "      <th></th>\n",
              "      <th>Text Response</th>\n",
              "      <th>similarity_bow</th>\n",
              "    </tr>\n",
              "  </thead>\n",
              "  <tbody>\n",
              "    <tr>\n",
              "      <th>211</th>\n",
              "      <td>I'm glad to help. What can I do for you?</td>\n",
              "      <td>0.577350</td>\n",
              "    </tr>\n",
              "    <tr>\n",
              "      <th>194</th>\n",
              "      <td>I'm glad to help. What can I do for you?</td>\n",
              "      <td>0.577350</td>\n",
              "    </tr>\n",
              "    <tr>\n",
              "      <th>184</th>\n",
              "      <td>I'm glad to help. What can I do for you?</td>\n",
              "      <td>0.408248</td>\n",
              "    </tr>\n",
              "    <tr>\n",
              "      <th>186</th>\n",
              "      <td>I'm glad to help. What can I do for you?</td>\n",
              "      <td>0.408248</td>\n",
              "    </tr>\n",
              "    <tr>\n",
              "      <th>200</th>\n",
              "      <td>I'm glad to help. What can I do for you?</td>\n",
              "      <td>0.408248</td>\n",
              "    </tr>\n",
              "    <tr>\n",
              "      <th>219</th>\n",
              "      <td>I'm glad to help. What can I do for you?</td>\n",
              "      <td>0.333333</td>\n",
              "    </tr>\n",
              "    <tr>\n",
              "      <th>728</th>\n",
              "      <td>It's my pleasure to help.</td>\n",
              "      <td>0.333333</td>\n",
              "    </tr>\n",
              "    <tr>\n",
              "      <th>188</th>\n",
              "      <td>I'm glad to help. What can I do for you?</td>\n",
              "      <td>0.333333</td>\n",
              "    </tr>\n",
              "    <tr>\n",
              "      <th>190</th>\n",
              "      <td>I'm glad to help. What can I do for you?</td>\n",
              "      <td>0.333333</td>\n",
              "    </tr>\n",
              "    <tr>\n",
              "      <th>191</th>\n",
              "      <td>I'm glad to help. What can I do for you?</td>\n",
              "      <td>0.333333</td>\n",
              "    </tr>\n",
              "    <tr>\n",
              "      <th>197</th>\n",
              "      <td>I'm glad to help. What can I do for you?</td>\n",
              "      <td>0.333333</td>\n",
              "    </tr>\n",
              "    <tr>\n",
              "      <th>199</th>\n",
              "      <td>I'm glad to help. What can I do for you?</td>\n",
              "      <td>0.333333</td>\n",
              "    </tr>\n",
              "    <tr>\n",
              "      <th>214</th>\n",
              "      <td>I'm glad to help. What can I do for you?</td>\n",
              "      <td>0.333333</td>\n",
              "    </tr>\n",
              "    <tr>\n",
              "      <th>216</th>\n",
              "      <td>I'm glad to help. What can I do for you?</td>\n",
              "      <td>0.333333</td>\n",
              "    </tr>\n",
              "    <tr>\n",
              "      <th>220</th>\n",
              "      <td>I'm glad to help. What can I do for you?</td>\n",
              "      <td>0.333333</td>\n",
              "    </tr>\n",
              "    <tr>\n",
              "      <th>221</th>\n",
              "      <td>I'm glad to help. What can I do for you?</td>\n",
              "      <td>0.333333</td>\n",
              "    </tr>\n",
              "    <tr>\n",
              "      <th>222</th>\n",
              "      <td>I'm glad to help. What can I do for you?</td>\n",
              "      <td>0.333333</td>\n",
              "    </tr>\n",
              "    <tr>\n",
              "      <th>288</th>\n",
              "      <td>Oh, don't give up on me!</td>\n",
              "      <td>0.333333</td>\n",
              "    </tr>\n",
              "    <tr>\n",
              "      <th>1364</th>\n",
              "      <td>If you're happy, then I'm happy.</td>\n",
              "      <td>0.288675</td>\n",
              "    </tr>\n",
              "    <tr>\n",
              "      <th>1506</th>\n",
              "      <td>Probably I won't be able to give you the right...</td>\n",
              "      <td>0.288675</td>\n",
              "    </tr>\n",
              "    <tr>\n",
              "      <th>727</th>\n",
              "      <td>It's my pleasure to help.</td>\n",
              "      <td>0.288675</td>\n",
              "    </tr>\n",
              "    <tr>\n",
              "      <th>4</th>\n",
              "      <td>I can help you work smarter instead of harder</td>\n",
              "      <td>0.288675</td>\n",
              "    </tr>\n",
              "    <tr>\n",
              "      <th>515</th>\n",
              "      <td>Of course I am.</td>\n",
              "      <td>0.288675</td>\n",
              "    </tr>\n",
              "    <tr>\n",
              "      <th>289</th>\n",
              "      <td>Oh, don't give up on me!</td>\n",
              "      <td>0.288675</td>\n",
              "    </tr>\n",
              "    <tr>\n",
              "      <th>218</th>\n",
              "      <td>I'm glad to help. What can I do for you?</td>\n",
              "      <td>0.288675</td>\n",
              "    </tr>\n",
              "    <tr>\n",
              "      <th>196</th>\n",
              "      <td>I'm glad to help. What can I do for you?</td>\n",
              "      <td>0.288675</td>\n",
              "    </tr>\n",
              "    <tr>\n",
              "      <th>24</th>\n",
              "      <td>I'm a relatively new bot, but I'm wise beyond ...</td>\n",
              "      <td>0.288675</td>\n",
              "    </tr>\n",
              "    <tr>\n",
              "      <th>210</th>\n",
              "      <td>I'm glad to help. What can I do for you?</td>\n",
              "      <td>0.288675</td>\n",
              "    </tr>\n",
              "    <tr>\n",
              "      <th>48</th>\n",
              "      <td>I'm not programmed for that exact question. Tr...</td>\n",
              "      <td>0.288675</td>\n",
              "    </tr>\n",
              "    <tr>\n",
              "      <th>212</th>\n",
              "      <td>I'm glad to help. What can I do for you?</td>\n",
              "      <td>0.288675</td>\n",
              "    </tr>\n",
              "    <tr>\n",
              "      <th>213</th>\n",
              "      <td>I'm glad to help. What can I do for you?</td>\n",
              "      <td>0.288675</td>\n",
              "    </tr>\n",
              "    <tr>\n",
              "      <th>16</th>\n",
              "      <td>I can help you work smarter instead of harder</td>\n",
              "      <td>0.288675</td>\n",
              "    </tr>\n",
              "    <tr>\n",
              "      <th>61</th>\n",
              "      <td>I'm sorry you think so. I'm constantly learnin...</td>\n",
              "      <td>0.288675</td>\n",
              "    </tr>\n",
              "    <tr>\n",
              "      <th>205</th>\n",
              "      <td>I'm glad to help. What can I do for you?</td>\n",
              "      <td>0.258199</td>\n",
              "    </tr>\n",
              "    <tr>\n",
              "      <th>538</th>\n",
              "      <td>My pleasure.</td>\n",
              "      <td>0.258199</td>\n",
              "    </tr>\n",
              "    <tr>\n",
              "      <th>500</th>\n",
              "      <td>The virtual world is my playground. I'm always...</td>\n",
              "      <td>0.258199</td>\n",
              "    </tr>\n",
              "    <tr>\n",
              "      <th>185</th>\n",
              "      <td>I'm glad to help. What can I do for you?</td>\n",
              "      <td>0.258199</td>\n",
              "    </tr>\n",
              "    <tr>\n",
              "      <th>379</th>\n",
              "      <td>I should get one. It's all work and no play la...</td>\n",
              "      <td>0.258199</td>\n",
              "    </tr>\n",
              "    <tr>\n",
              "      <th>183</th>\n",
              "      <td>Sure. I'd be happy to. What's up?</td>\n",
              "      <td>0.258199</td>\n",
              "    </tr>\n",
              "    <tr>\n",
              "      <th>414</th>\n",
              "      <td>Absolutely. You don't have to ask.</td>\n",
              "      <td>0.258199</td>\n",
              "    </tr>\n",
              "    <tr>\n",
              "      <th>747</th>\n",
              "      <td>It's my pleasure to help.</td>\n",
              "      <td>0.258199</td>\n",
              "    </tr>\n",
              "    <tr>\n",
              "      <th>0</th>\n",
              "      <td>Just think of me as the ace up your sleeve.</td>\n",
              "      <td>0.258199</td>\n",
              "    </tr>\n",
              "    <tr>\n",
              "      <th>733</th>\n",
              "      <td>It's my pleasure to help.</td>\n",
              "      <td>0.235702</td>\n",
              "    </tr>\n",
              "    <tr>\n",
              "      <th>419</th>\n",
              "      <td>Absolutely. You don't have to ask.</td>\n",
              "      <td>0.235702</td>\n",
              "    </tr>\n",
              "    <tr>\n",
              "      <th>193</th>\n",
              "      <td>I'm glad to help. What can I do for you?</td>\n",
              "      <td>0.235702</td>\n",
              "    </tr>\n",
              "    <tr>\n",
              "      <th>195</th>\n",
              "      <td>I'm glad to help. What can I do for you?</td>\n",
              "      <td>0.235702</td>\n",
              "    </tr>\n",
              "    <tr>\n",
              "      <th>209</th>\n",
              "      <td>I'm glad to help. What can I do for you?</td>\n",
              "      <td>0.235702</td>\n",
              "    </tr>\n",
              "    <tr>\n",
              "      <th>189</th>\n",
              "      <td>I'm glad to help. What can I do for you?</td>\n",
              "      <td>0.235702</td>\n",
              "    </tr>\n",
              "    <tr>\n",
              "      <th>6</th>\n",
              "      <td>I can help you work smarter instead of harder</td>\n",
              "      <td>0.235702</td>\n",
              "    </tr>\n",
              "    <tr>\n",
              "      <th>330</th>\n",
              "      <td>Thanks, I try.</td>\n",
              "      <td>0.218218</td>\n",
              "    </tr>\n",
              "    <tr>\n",
              "      <th>738</th>\n",
              "      <td>It's my pleasure to help.</td>\n",
              "      <td>0.218218</td>\n",
              "    </tr>\n",
              "    <tr>\n",
              "      <th>341</th>\n",
              "      <td>Thanks, I try.</td>\n",
              "      <td>0.204124</td>\n",
              "    </tr>\n",
              "    <tr>\n",
              "      <th>1377</th>\n",
              "      <td>So I see. What can I help you with today?</td>\n",
              "      <td>0.204124</td>\n",
              "    </tr>\n",
              "  </tbody>\n",
              "</table>\n",
              "</div>"
            ],
            "text/plain": [
              "                                          Text Response  similarity_bow\n",
              "211            I'm glad to help. What can I do for you?        0.577350\n",
              "194            I'm glad to help. What can I do for you?        0.577350\n",
              "184            I'm glad to help. What can I do for you?        0.408248\n",
              "186            I'm glad to help. What can I do for you?        0.408248\n",
              "200            I'm glad to help. What can I do for you?        0.408248\n",
              "219            I'm glad to help. What can I do for you?        0.333333\n",
              "728                           It's my pleasure to help.        0.333333\n",
              "188            I'm glad to help. What can I do for you?        0.333333\n",
              "190            I'm glad to help. What can I do for you?        0.333333\n",
              "191            I'm glad to help. What can I do for you?        0.333333\n",
              "197            I'm glad to help. What can I do for you?        0.333333\n",
              "199            I'm glad to help. What can I do for you?        0.333333\n",
              "214            I'm glad to help. What can I do for you?        0.333333\n",
              "216            I'm glad to help. What can I do for you?        0.333333\n",
              "220            I'm glad to help. What can I do for you?        0.333333\n",
              "221            I'm glad to help. What can I do for you?        0.333333\n",
              "222            I'm glad to help. What can I do for you?        0.333333\n",
              "288                            Oh, don't give up on me!        0.333333\n",
              "1364                   If you're happy, then I'm happy.        0.288675\n",
              "1506  Probably I won't be able to give you the right...        0.288675\n",
              "727                           It's my pleasure to help.        0.288675\n",
              "4         I can help you work smarter instead of harder        0.288675\n",
              "515                                     Of course I am.        0.288675\n",
              "289                            Oh, don't give up on me!        0.288675\n",
              "218            I'm glad to help. What can I do for you?        0.288675\n",
              "196            I'm glad to help. What can I do for you?        0.288675\n",
              "24    I'm a relatively new bot, but I'm wise beyond ...        0.288675\n",
              "210            I'm glad to help. What can I do for you?        0.288675\n",
              "48    I'm not programmed for that exact question. Tr...        0.288675\n",
              "212            I'm glad to help. What can I do for you?        0.288675\n",
              "213            I'm glad to help. What can I do for you?        0.288675\n",
              "16        I can help you work smarter instead of harder        0.288675\n",
              "61    I'm sorry you think so. I'm constantly learnin...        0.288675\n",
              "205            I'm glad to help. What can I do for you?        0.258199\n",
              "538                                        My pleasure.        0.258199\n",
              "500   The virtual world is my playground. I'm always...        0.258199\n",
              "185            I'm glad to help. What can I do for you?        0.258199\n",
              "379   I should get one. It's all work and no play la...        0.258199\n",
              "183                   Sure. I'd be happy to. What's up?        0.258199\n",
              "414                  Absolutely. You don't have to ask.        0.258199\n",
              "747                           It's my pleasure to help.        0.258199\n",
              "0           Just think of me as the ace up your sleeve.        0.258199\n",
              "733                           It's my pleasure to help.        0.235702\n",
              "419                  Absolutely. You don't have to ask.        0.235702\n",
              "193            I'm glad to help. What can I do for you?        0.235702\n",
              "195            I'm glad to help. What can I do for you?        0.235702\n",
              "209            I'm glad to help. What can I do for you?        0.235702\n",
              "189            I'm glad to help. What can I do for you?        0.235702\n",
              "6         I can help you work smarter instead of harder        0.235702\n",
              "330                                      Thanks, I try.        0.218218\n",
              "738                           It's my pleasure to help.        0.218218\n",
              "341                                      Thanks, I try.        0.204124\n",
              "1377          So I see. What can I help you with today?        0.204124"
            ]
          },
          "metadata": {
            "tags": []
          },
          "execution_count": 29
        }
      ]
    },
    {
      "cell_type": "markdown",
      "metadata": {
        "id": "nCNvu49oh1Dz",
        "colab_type": "text"
      },
      "source": [
        "- Finally using bow for the question 'Will you help me and tell me about yourself more' , the above are the responses we got using bow and the smiliarity value of responses, we consider the response with highest similarity"
      ]
    },
    {
      "cell_type": "code",
      "metadata": {
        "id": "yDDUISNph1Dz",
        "colab_type": "code",
        "colab": {
          "base_uri": "https://localhost:8080/",
          "height": 34
        },
        "outputId": "6130a688-0e8e-41bc-9827-1c3aae0c33f8"
      },
      "source": [
        "index_value = cosine_value.argmax() # returns the index number of highest value\n",
        "index_value "
      ],
      "execution_count": 30,
      "outputs": [
        {
          "output_type": "execute_result",
          "data": {
            "text/plain": [
              "194"
            ]
          },
          "metadata": {
            "tags": []
          },
          "execution_count": 30
        }
      ]
    },
    {
      "cell_type": "code",
      "metadata": {
        "id": "tzwsZLi_h1D3",
        "colab_type": "code",
        "colab": {
          "base_uri": "https://localhost:8080/",
          "height": 35
        },
        "outputId": "3bbe463c-57b0-46d2-dae4-f0eb2afdb4b3"
      },
      "source": [
        "(Question)"
      ],
      "execution_count": 31,
      "outputs": [
        {
          "output_type": "execute_result",
          "data": {
            "application/vnd.google.colaboratory.intrinsic": {
              "type": "string"
            },
            "text/plain": [
              "'Will you help me and tell me about yourself more'"
            ]
          },
          "metadata": {
            "tags": []
          },
          "execution_count": 31
        }
      ]
    },
    {
      "cell_type": "code",
      "metadata": {
        "id": "PDEL-66Rh1D5",
        "colab_type": "code",
        "colab": {
          "base_uri": "https://localhost:8080/",
          "height": 35
        },
        "outputId": "3d52ffc5-f74a-4bd4-a801-d367f4592644"
      },
      "source": [
        "df['Text Response'].loc[index_value] # The text at the above index becomes the response for the question"
      ],
      "execution_count": 32,
      "outputs": [
        {
          "output_type": "execute_result",
          "data": {
            "application/vnd.google.colaboratory.intrinsic": {
              "type": "string"
            },
            "text/plain": [
              "\"I'm glad to help. What can I do for you?\""
            ]
          },
          "metadata": {
            "tags": []
          },
          "execution_count": 32
        }
      ]
    },
    {
      "cell_type": "markdown",
      "metadata": {
        "id": "QJFFJ5s4h1D9",
        "colab_type": "text"
      },
      "source": [
        "##TF-IDF Vectorizer\n",
        "\n",
        "Helps to evaluate how important a word is to a document in a collection or corpus\n",
        "\n",
        "```tf``` stands for term frequency, representing the iterations of the particular word in current document\n",
        "\n",
        "```idf``` stands for inverse document frequency, representing iterations of the particular word across all documents\n",
        "\n",
        "NLTK provides with ```TfidfVectorizer()``` for the same"
      ]
    },
    {
      "cell_type": "code",
      "metadata": {
        "id": "Fexwfs_yh1D-",
        "colab_type": "code",
        "colab": {}
      },
      "source": [
        "Question1 ='Tell me about yourself.'"
      ],
      "execution_count": 33,
      "outputs": []
    },
    {
      "cell_type": "code",
      "metadata": {
        "id": "hV784Mo5h1EA",
        "colab_type": "code",
        "colab": {}
      },
      "source": [
        "# using tf-idf\n",
        "\n",
        "tfidf=TfidfVectorizer() # intializing tf-id \n",
        "x_tfidf=tfidf.fit_transform(df['lemmatized_text']).toarray() # transforming the data into array\n",
        "Question_lemma1 = text_normalization(Question1)\n",
        "Question_tfidf = tfidf.transform([Question_lemma1]).toarray() # applying tf-idf"
      ],
      "execution_count": 34,
      "outputs": []
    },
    {
      "cell_type": "code",
      "metadata": {
        "id": "8X09AM3jh1EG",
        "colab_type": "code",
        "colab": {
          "base_uri": "https://localhost:8080/",
          "height": 253
        },
        "outputId": "36bd111e-a674-4b8c-fe58-9e7b5d7a2ae1"
      },
      "source": [
        "# returns all the unique word from data with a score of that word\n",
        "\n",
        "df_tfidf=pd.DataFrame(x_tfidf,columns=tfidf.get_feature_names()) \n",
        "df_tfidf.head()"
      ],
      "execution_count": 35,
      "outputs": [
        {
          "output_type": "execute_result",
          "data": {
            "text/html": [
              "<div>\n",
              "<style scoped>\n",
              "    .dataframe tbody tr th:only-of-type {\n",
              "        vertical-align: middle;\n",
              "    }\n",
              "\n",
              "    .dataframe tbody tr th {\n",
              "        vertical-align: top;\n",
              "    }\n",
              "\n",
              "    .dataframe thead th {\n",
              "        text-align: right;\n",
              "    }\n",
              "</style>\n",
              "<table border=\"1\" class=\"dataframe\">\n",
              "  <thead>\n",
              "    <tr style=\"text-align: right;\">\n",
              "      <th></th>\n",
              "      <th>abort</th>\n",
              "      <th>about</th>\n",
              "      <th>absolutely</th>\n",
              "      <th>abysmal</th>\n",
              "      <th>actually</th>\n",
              "      <th>adore</th>\n",
              "      <th>advice</th>\n",
              "      <th>advise</th>\n",
              "      <th>affirmative</th>\n",
              "      <th>afraid</th>\n",
              "      <th>afternoon</th>\n",
              "      <th>again</th>\n",
              "      <th>age</th>\n",
              "      <th>agree</th>\n",
              "      <th>ah</th>\n",
              "      <th>ahah</th>\n",
              "      <th>ahaha</th>\n",
              "      <th>ahahah</th>\n",
              "      <th>ahahaha</th>\n",
              "      <th>ahead</th>\n",
              "      <th>all</th>\n",
              "      <th>almost</th>\n",
              "      <th>alone</th>\n",
              "      <th>already</th>\n",
              "      <th>alright</th>\n",
              "      <th>alrighty</th>\n",
              "      <th>also</th>\n",
              "      <th>always</th>\n",
              "      <th>amaze</th>\n",
              "      <th>amazing</th>\n",
              "      <th>an</th>\n",
              "      <th>and</th>\n",
              "      <th>angry</th>\n",
              "      <th>annoy</th>\n",
              "      <th>annoying</th>\n",
              "      <th>annul</th>\n",
              "      <th>answer</th>\n",
              "      <th>any</th>\n",
              "      <th>anymore</th>\n",
              "      <th>anything</th>\n",
              "      <th>...</th>\n",
              "      <th>whats</th>\n",
              "      <th>whazzup</th>\n",
              "      <th>when</th>\n",
              "      <th>where</th>\n",
              "      <th>wheres</th>\n",
              "      <th>which</th>\n",
              "      <th>who</th>\n",
              "      <th>whole</th>\n",
              "      <th>why</th>\n",
              "      <th>wife</th>\n",
              "      <th>will</th>\n",
              "      <th>wise</th>\n",
              "      <th>with</th>\n",
              "      <th>woah</th>\n",
              "      <th>wonderful</th>\n",
              "      <th>wooow</th>\n",
              "      <th>work</th>\n",
              "      <th>world</th>\n",
              "      <th>worry</th>\n",
              "      <th>worthless</th>\n",
              "      <th>would</th>\n",
              "      <th>wow</th>\n",
              "      <th>wrong</th>\n",
              "      <th>xd</th>\n",
              "      <th>ya</th>\n",
              "      <th>yap</th>\n",
              "      <th>ye</th>\n",
              "      <th>yea</th>\n",
              "      <th>yeah</th>\n",
              "      <th>year</th>\n",
              "      <th>yeh</th>\n",
              "      <th>yep</th>\n",
              "      <th>yes</th>\n",
              "      <th>yet</th>\n",
              "      <th>you</th>\n",
              "      <th>your</th>\n",
              "      <th>youre</th>\n",
              "      <th>yours</th>\n",
              "      <th>yourself</th>\n",
              "      <th>yup</th>\n",
              "    </tr>\n",
              "  </thead>\n",
              "  <tbody>\n",
              "    <tr>\n",
              "      <th>0</th>\n",
              "      <td>0.0</td>\n",
              "      <td>0.407572</td>\n",
              "      <td>0.0</td>\n",
              "      <td>0.0</td>\n",
              "      <td>0.0</td>\n",
              "      <td>0.0</td>\n",
              "      <td>0.0</td>\n",
              "      <td>0.0</td>\n",
              "      <td>0.0</td>\n",
              "      <td>0.0</td>\n",
              "      <td>0.0</td>\n",
              "      <td>0.0</td>\n",
              "      <td>0.0</td>\n",
              "      <td>0.0</td>\n",
              "      <td>0.0</td>\n",
              "      <td>0.0</td>\n",
              "      <td>0.0</td>\n",
              "      <td>0.0</td>\n",
              "      <td>0.0</td>\n",
              "      <td>0.0</td>\n",
              "      <td>0.0</td>\n",
              "      <td>0.0</td>\n",
              "      <td>0.0</td>\n",
              "      <td>0.0</td>\n",
              "      <td>0.0</td>\n",
              "      <td>0.0</td>\n",
              "      <td>0.0</td>\n",
              "      <td>0.0</td>\n",
              "      <td>0.0</td>\n",
              "      <td>0.0</td>\n",
              "      <td>0.0</td>\n",
              "      <td>0.0</td>\n",
              "      <td>0.0</td>\n",
              "      <td>0.0</td>\n",
              "      <td>0.0</td>\n",
              "      <td>0.0</td>\n",
              "      <td>0.0</td>\n",
              "      <td>0.0</td>\n",
              "      <td>0.0</td>\n",
              "      <td>0.0</td>\n",
              "      <td>...</td>\n",
              "      <td>0.0</td>\n",
              "      <td>0.0</td>\n",
              "      <td>0.0</td>\n",
              "      <td>0.0</td>\n",
              "      <td>0.0</td>\n",
              "      <td>0.0</td>\n",
              "      <td>0.0</td>\n",
              "      <td>0.0</td>\n",
              "      <td>0.0</td>\n",
              "      <td>0.0</td>\n",
              "      <td>0.0</td>\n",
              "      <td>0.0</td>\n",
              "      <td>0.0</td>\n",
              "      <td>0.0</td>\n",
              "      <td>0.0</td>\n",
              "      <td>0.0</td>\n",
              "      <td>0.0</td>\n",
              "      <td>0.0</td>\n",
              "      <td>0.0</td>\n",
              "      <td>0.0</td>\n",
              "      <td>0.0</td>\n",
              "      <td>0.0</td>\n",
              "      <td>0.0</td>\n",
              "      <td>0.0</td>\n",
              "      <td>0.0</td>\n",
              "      <td>0.0</td>\n",
              "      <td>0.0</td>\n",
              "      <td>0.0</td>\n",
              "      <td>0.0</td>\n",
              "      <td>0.0</td>\n",
              "      <td>0.0</td>\n",
              "      <td>0.0</td>\n",
              "      <td>0.0</td>\n",
              "      <td>0.0</td>\n",
              "      <td>0.000000</td>\n",
              "      <td>0.330555</td>\n",
              "      <td>0.0</td>\n",
              "      <td>0.0</td>\n",
              "      <td>0.000000</td>\n",
              "      <td>0.0</td>\n",
              "    </tr>\n",
              "    <tr>\n",
              "      <th>1</th>\n",
              "      <td>0.0</td>\n",
              "      <td>0.000000</td>\n",
              "      <td>0.0</td>\n",
              "      <td>0.0</td>\n",
              "      <td>0.0</td>\n",
              "      <td>0.0</td>\n",
              "      <td>0.0</td>\n",
              "      <td>0.0</td>\n",
              "      <td>0.0</td>\n",
              "      <td>0.0</td>\n",
              "      <td>0.0</td>\n",
              "      <td>0.0</td>\n",
              "      <td>0.0</td>\n",
              "      <td>0.0</td>\n",
              "      <td>0.0</td>\n",
              "      <td>0.0</td>\n",
              "      <td>0.0</td>\n",
              "      <td>0.0</td>\n",
              "      <td>0.0</td>\n",
              "      <td>0.0</td>\n",
              "      <td>0.0</td>\n",
              "      <td>0.0</td>\n",
              "      <td>0.0</td>\n",
              "      <td>0.0</td>\n",
              "      <td>0.0</td>\n",
              "      <td>0.0</td>\n",
              "      <td>0.0</td>\n",
              "      <td>0.0</td>\n",
              "      <td>0.0</td>\n",
              "      <td>0.0</td>\n",
              "      <td>0.0</td>\n",
              "      <td>0.0</td>\n",
              "      <td>0.0</td>\n",
              "      <td>0.0</td>\n",
              "      <td>0.0</td>\n",
              "      <td>0.0</td>\n",
              "      <td>0.0</td>\n",
              "      <td>0.0</td>\n",
              "      <td>0.0</td>\n",
              "      <td>0.0</td>\n",
              "      <td>...</td>\n",
              "      <td>0.0</td>\n",
              "      <td>0.0</td>\n",
              "      <td>0.0</td>\n",
              "      <td>0.0</td>\n",
              "      <td>0.0</td>\n",
              "      <td>0.0</td>\n",
              "      <td>0.0</td>\n",
              "      <td>0.0</td>\n",
              "      <td>0.0</td>\n",
              "      <td>0.0</td>\n",
              "      <td>0.0</td>\n",
              "      <td>0.0</td>\n",
              "      <td>0.0</td>\n",
              "      <td>0.0</td>\n",
              "      <td>0.0</td>\n",
              "      <td>0.0</td>\n",
              "      <td>0.0</td>\n",
              "      <td>0.0</td>\n",
              "      <td>0.0</td>\n",
              "      <td>0.0</td>\n",
              "      <td>0.0</td>\n",
              "      <td>0.0</td>\n",
              "      <td>0.0</td>\n",
              "      <td>0.0</td>\n",
              "      <td>0.0</td>\n",
              "      <td>0.0</td>\n",
              "      <td>0.0</td>\n",
              "      <td>0.0</td>\n",
              "      <td>0.0</td>\n",
              "      <td>0.0</td>\n",
              "      <td>0.0</td>\n",
              "      <td>0.0</td>\n",
              "      <td>0.0</td>\n",
              "      <td>0.0</td>\n",
              "      <td>0.218768</td>\n",
              "      <td>0.000000</td>\n",
              "      <td>0.0</td>\n",
              "      <td>0.0</td>\n",
              "      <td>0.000000</td>\n",
              "      <td>0.0</td>\n",
              "    </tr>\n",
              "    <tr>\n",
              "      <th>2</th>\n",
              "      <td>0.0</td>\n",
              "      <td>0.000000</td>\n",
              "      <td>0.0</td>\n",
              "      <td>0.0</td>\n",
              "      <td>0.0</td>\n",
              "      <td>0.0</td>\n",
              "      <td>0.0</td>\n",
              "      <td>0.0</td>\n",
              "      <td>0.0</td>\n",
              "      <td>0.0</td>\n",
              "      <td>0.0</td>\n",
              "      <td>0.0</td>\n",
              "      <td>0.0</td>\n",
              "      <td>0.0</td>\n",
              "      <td>0.0</td>\n",
              "      <td>0.0</td>\n",
              "      <td>0.0</td>\n",
              "      <td>0.0</td>\n",
              "      <td>0.0</td>\n",
              "      <td>0.0</td>\n",
              "      <td>0.0</td>\n",
              "      <td>0.0</td>\n",
              "      <td>0.0</td>\n",
              "      <td>0.0</td>\n",
              "      <td>0.0</td>\n",
              "      <td>0.0</td>\n",
              "      <td>0.0</td>\n",
              "      <td>0.0</td>\n",
              "      <td>0.0</td>\n",
              "      <td>0.0</td>\n",
              "      <td>0.0</td>\n",
              "      <td>0.0</td>\n",
              "      <td>0.0</td>\n",
              "      <td>0.0</td>\n",
              "      <td>0.0</td>\n",
              "      <td>0.0</td>\n",
              "      <td>0.0</td>\n",
              "      <td>0.0</td>\n",
              "      <td>0.0</td>\n",
              "      <td>0.0</td>\n",
              "      <td>...</td>\n",
              "      <td>0.0</td>\n",
              "      <td>0.0</td>\n",
              "      <td>0.0</td>\n",
              "      <td>0.0</td>\n",
              "      <td>0.0</td>\n",
              "      <td>0.0</td>\n",
              "      <td>0.0</td>\n",
              "      <td>0.0</td>\n",
              "      <td>0.0</td>\n",
              "      <td>0.0</td>\n",
              "      <td>0.0</td>\n",
              "      <td>0.0</td>\n",
              "      <td>0.0</td>\n",
              "      <td>0.0</td>\n",
              "      <td>0.0</td>\n",
              "      <td>0.0</td>\n",
              "      <td>0.0</td>\n",
              "      <td>0.0</td>\n",
              "      <td>0.0</td>\n",
              "      <td>0.0</td>\n",
              "      <td>0.0</td>\n",
              "      <td>0.0</td>\n",
              "      <td>0.0</td>\n",
              "      <td>0.0</td>\n",
              "      <td>0.0</td>\n",
              "      <td>0.0</td>\n",
              "      <td>0.0</td>\n",
              "      <td>0.0</td>\n",
              "      <td>0.0</td>\n",
              "      <td>0.0</td>\n",
              "      <td>0.0</td>\n",
              "      <td>0.0</td>\n",
              "      <td>0.0</td>\n",
              "      <td>0.0</td>\n",
              "      <td>0.000000</td>\n",
              "      <td>0.000000</td>\n",
              "      <td>0.0</td>\n",
              "      <td>0.0</td>\n",
              "      <td>0.641790</td>\n",
              "      <td>0.0</td>\n",
              "    </tr>\n",
              "    <tr>\n",
              "      <th>3</th>\n",
              "      <td>0.0</td>\n",
              "      <td>0.000000</td>\n",
              "      <td>0.0</td>\n",
              "      <td>0.0</td>\n",
              "      <td>0.0</td>\n",
              "      <td>0.0</td>\n",
              "      <td>0.0</td>\n",
              "      <td>0.0</td>\n",
              "      <td>0.0</td>\n",
              "      <td>0.0</td>\n",
              "      <td>0.0</td>\n",
              "      <td>0.0</td>\n",
              "      <td>0.0</td>\n",
              "      <td>0.0</td>\n",
              "      <td>0.0</td>\n",
              "      <td>0.0</td>\n",
              "      <td>0.0</td>\n",
              "      <td>0.0</td>\n",
              "      <td>0.0</td>\n",
              "      <td>0.0</td>\n",
              "      <td>0.0</td>\n",
              "      <td>0.0</td>\n",
              "      <td>0.0</td>\n",
              "      <td>0.0</td>\n",
              "      <td>0.0</td>\n",
              "      <td>0.0</td>\n",
              "      <td>0.0</td>\n",
              "      <td>0.0</td>\n",
              "      <td>0.0</td>\n",
              "      <td>0.0</td>\n",
              "      <td>0.0</td>\n",
              "      <td>0.0</td>\n",
              "      <td>0.0</td>\n",
              "      <td>0.0</td>\n",
              "      <td>0.0</td>\n",
              "      <td>0.0</td>\n",
              "      <td>0.0</td>\n",
              "      <td>0.0</td>\n",
              "      <td>0.0</td>\n",
              "      <td>0.0</td>\n",
              "      <td>...</td>\n",
              "      <td>0.0</td>\n",
              "      <td>0.0</td>\n",
              "      <td>0.0</td>\n",
              "      <td>0.0</td>\n",
              "      <td>0.0</td>\n",
              "      <td>0.0</td>\n",
              "      <td>0.0</td>\n",
              "      <td>0.0</td>\n",
              "      <td>0.0</td>\n",
              "      <td>0.0</td>\n",
              "      <td>0.0</td>\n",
              "      <td>0.0</td>\n",
              "      <td>0.0</td>\n",
              "      <td>0.0</td>\n",
              "      <td>0.0</td>\n",
              "      <td>0.0</td>\n",
              "      <td>0.0</td>\n",
              "      <td>0.0</td>\n",
              "      <td>0.0</td>\n",
              "      <td>0.0</td>\n",
              "      <td>0.0</td>\n",
              "      <td>0.0</td>\n",
              "      <td>0.0</td>\n",
              "      <td>0.0</td>\n",
              "      <td>0.0</td>\n",
              "      <td>0.0</td>\n",
              "      <td>0.0</td>\n",
              "      <td>0.0</td>\n",
              "      <td>0.0</td>\n",
              "      <td>0.0</td>\n",
              "      <td>0.0</td>\n",
              "      <td>0.0</td>\n",
              "      <td>0.0</td>\n",
              "      <td>0.0</td>\n",
              "      <td>0.000000</td>\n",
              "      <td>0.000000</td>\n",
              "      <td>0.0</td>\n",
              "      <td>0.0</td>\n",
              "      <td>0.641790</td>\n",
              "      <td>0.0</td>\n",
              "    </tr>\n",
              "    <tr>\n",
              "      <th>4</th>\n",
              "      <td>0.0</td>\n",
              "      <td>0.453790</td>\n",
              "      <td>0.0</td>\n",
              "      <td>0.0</td>\n",
              "      <td>0.0</td>\n",
              "      <td>0.0</td>\n",
              "      <td>0.0</td>\n",
              "      <td>0.0</td>\n",
              "      <td>0.0</td>\n",
              "      <td>0.0</td>\n",
              "      <td>0.0</td>\n",
              "      <td>0.0</td>\n",
              "      <td>0.0</td>\n",
              "      <td>0.0</td>\n",
              "      <td>0.0</td>\n",
              "      <td>0.0</td>\n",
              "      <td>0.0</td>\n",
              "      <td>0.0</td>\n",
              "      <td>0.0</td>\n",
              "      <td>0.0</td>\n",
              "      <td>0.0</td>\n",
              "      <td>0.0</td>\n",
              "      <td>0.0</td>\n",
              "      <td>0.0</td>\n",
              "      <td>0.0</td>\n",
              "      <td>0.0</td>\n",
              "      <td>0.0</td>\n",
              "      <td>0.0</td>\n",
              "      <td>0.0</td>\n",
              "      <td>0.0</td>\n",
              "      <td>0.0</td>\n",
              "      <td>0.0</td>\n",
              "      <td>0.0</td>\n",
              "      <td>0.0</td>\n",
              "      <td>0.0</td>\n",
              "      <td>0.0</td>\n",
              "      <td>0.0</td>\n",
              "      <td>0.0</td>\n",
              "      <td>0.0</td>\n",
              "      <td>0.0</td>\n",
              "      <td>...</td>\n",
              "      <td>0.0</td>\n",
              "      <td>0.0</td>\n",
              "      <td>0.0</td>\n",
              "      <td>0.0</td>\n",
              "      <td>0.0</td>\n",
              "      <td>0.0</td>\n",
              "      <td>0.0</td>\n",
              "      <td>0.0</td>\n",
              "      <td>0.0</td>\n",
              "      <td>0.0</td>\n",
              "      <td>0.0</td>\n",
              "      <td>0.0</td>\n",
              "      <td>0.0</td>\n",
              "      <td>0.0</td>\n",
              "      <td>0.0</td>\n",
              "      <td>0.0</td>\n",
              "      <td>0.0</td>\n",
              "      <td>0.0</td>\n",
              "      <td>0.0</td>\n",
              "      <td>0.0</td>\n",
              "      <td>0.0</td>\n",
              "      <td>0.0</td>\n",
              "      <td>0.0</td>\n",
              "      <td>0.0</td>\n",
              "      <td>0.0</td>\n",
              "      <td>0.0</td>\n",
              "      <td>0.0</td>\n",
              "      <td>0.0</td>\n",
              "      <td>0.0</td>\n",
              "      <td>0.0</td>\n",
              "      <td>0.0</td>\n",
              "      <td>0.0</td>\n",
              "      <td>0.0</td>\n",
              "      <td>0.0</td>\n",
              "      <td>0.000000</td>\n",
              "      <td>0.000000</td>\n",
              "      <td>0.0</td>\n",
              "      <td>0.0</td>\n",
              "      <td>0.608937</td>\n",
              "      <td>0.0</td>\n",
              "    </tr>\n",
              "  </tbody>\n",
              "</table>\n",
              "<p>5 rows × 505 columns</p>\n",
              "</div>"
            ],
            "text/plain": [
              "   abort     about  absolutely  abysmal  ...  youre  yours  yourself  yup\n",
              "0    0.0  0.407572         0.0      0.0  ...    0.0    0.0  0.000000  0.0\n",
              "1    0.0  0.000000         0.0      0.0  ...    0.0    0.0  0.000000  0.0\n",
              "2    0.0  0.000000         0.0      0.0  ...    0.0    0.0  0.641790  0.0\n",
              "3    0.0  0.000000         0.0      0.0  ...    0.0    0.0  0.641790  0.0\n",
              "4    0.0  0.453790         0.0      0.0  ...    0.0    0.0  0.608937  0.0\n",
              "\n",
              "[5 rows x 505 columns]"
            ]
          },
          "metadata": {
            "tags": []
          },
          "execution_count": 35
        }
      ]
    },
    {
      "cell_type": "markdown",
      "metadata": {
        "id": "mOy-esbch1EJ",
        "colab_type": "text"
      },
      "source": [
        "##Similarity"
      ]
    },
    {
      "cell_type": "code",
      "metadata": {
        "id": "1bfluKlmh1EJ",
        "colab_type": "code",
        "colab": {
          "base_uri": "https://localhost:8080/",
          "height": 136
        },
        "outputId": "7be7c0f9-8a13-4167-a24b-8331799f86ac"
      },
      "source": [
        "cos=1-pairwise_distances(df_tfidf,Question_tfidf,metric='cosine')  # applying cosine similarity\n",
        "cos"
      ],
      "execution_count": 36,
      "outputs": [
        {
          "output_type": "execute_result",
          "data": {
            "text/plain": [
              "array([[0.56511191],\n",
              "       [0.        ],\n",
              "       [0.39080996],\n",
              "       ...,\n",
              "       [0.        ],\n",
              "       [0.        ],\n",
              "       [0.        ]])"
            ]
          },
          "metadata": {
            "tags": []
          },
          "execution_count": 36
        }
      ]
    },
    {
      "cell_type": "code",
      "metadata": {
        "id": "dYkREpFlh1EL",
        "colab_type": "code",
        "colab": {
          "base_uri": "https://localhost:8080/",
          "height": 419
        },
        "outputId": "6ed18011-3301-4b53-f439-f3a20bec5a43"
      },
      "source": [
        "df['similarity_tfidf']=cos # creating a new column \n",
        "df_simi_tfidf = pd.DataFrame(df, columns=['Text Response','similarity_tfidf']) # taking similarity value of responses for the question we took\n",
        "df_simi_tfidf "
      ],
      "execution_count": 37,
      "outputs": [
        {
          "output_type": "execute_result",
          "data": {
            "text/html": [
              "<div>\n",
              "<style scoped>\n",
              "    .dataframe tbody tr th:only-of-type {\n",
              "        vertical-align: middle;\n",
              "    }\n",
              "\n",
              "    .dataframe tbody tr th {\n",
              "        vertical-align: top;\n",
              "    }\n",
              "\n",
              "    .dataframe thead th {\n",
              "        text-align: right;\n",
              "    }\n",
              "</style>\n",
              "<table border=\"1\" class=\"dataframe\">\n",
              "  <thead>\n",
              "    <tr style=\"text-align: right;\">\n",
              "      <th></th>\n",
              "      <th>Text Response</th>\n",
              "      <th>similarity_tfidf</th>\n",
              "    </tr>\n",
              "  </thead>\n",
              "  <tbody>\n",
              "    <tr>\n",
              "      <th>0</th>\n",
              "      <td>Just think of me as the ace up your sleeve.</td>\n",
              "      <td>0.565112</td>\n",
              "    </tr>\n",
              "    <tr>\n",
              "      <th>1</th>\n",
              "      <td>I can help you work smarter instead of harder</td>\n",
              "      <td>0.000000</td>\n",
              "    </tr>\n",
              "    <tr>\n",
              "      <th>2</th>\n",
              "      <td>I can help you work smarter instead of harder</td>\n",
              "      <td>0.390810</td>\n",
              "    </tr>\n",
              "    <tr>\n",
              "      <th>3</th>\n",
              "      <td>I can help you work smarter instead of harder</td>\n",
              "      <td>0.390810</td>\n",
              "    </tr>\n",
              "    <tr>\n",
              "      <th>4</th>\n",
              "      <td>I can help you work smarter instead of harder</td>\n",
              "      <td>1.000000</td>\n",
              "    </tr>\n",
              "    <tr>\n",
              "      <th>...</th>\n",
              "      <td>...</td>\n",
              "      <td>...</td>\n",
              "    </tr>\n",
              "    <tr>\n",
              "      <th>1587</th>\n",
              "      <td>Talking is what I do best.</td>\n",
              "      <td>0.000000</td>\n",
              "    </tr>\n",
              "    <tr>\n",
              "      <th>1588</th>\n",
              "      <td>I'll be waiting.</td>\n",
              "      <td>0.000000</td>\n",
              "    </tr>\n",
              "    <tr>\n",
              "      <th>1589</th>\n",
              "      <td>All right. I'll be here.</td>\n",
              "      <td>0.000000</td>\n",
              "    </tr>\n",
              "    <tr>\n",
              "      <th>1590</th>\n",
              "      <td>Till next time.</td>\n",
              "      <td>0.000000</td>\n",
              "    </tr>\n",
              "    <tr>\n",
              "      <th>1591</th>\n",
              "      <td>Okay. You know where to find me.</td>\n",
              "      <td>0.000000</td>\n",
              "    </tr>\n",
              "  </tbody>\n",
              "</table>\n",
              "<p>1592 rows × 2 columns</p>\n",
              "</div>"
            ],
            "text/plain": [
              "                                      Text Response  similarity_tfidf\n",
              "0       Just think of me as the ace up your sleeve.          0.565112\n",
              "1     I can help you work smarter instead of harder          0.000000\n",
              "2     I can help you work smarter instead of harder          0.390810\n",
              "3     I can help you work smarter instead of harder          0.390810\n",
              "4     I can help you work smarter instead of harder          1.000000\n",
              "...                                             ...               ...\n",
              "1587                     Talking is what I do best.          0.000000\n",
              "1588                               I'll be waiting.          0.000000\n",
              "1589                       All right. I'll be here.          0.000000\n",
              "1590                                Till next time.          0.000000\n",
              "1591               Okay. You know where to find me.          0.000000\n",
              "\n",
              "[1592 rows x 2 columns]"
            ]
          },
          "metadata": {
            "tags": []
          },
          "execution_count": 37
        }
      ]
    },
    {
      "cell_type": "code",
      "metadata": {
        "id": "GtJf6nl5h1EP",
        "colab_type": "code",
        "colab": {
          "base_uri": "https://localhost:8080/",
          "height": 359
        },
        "outputId": "d233d4b0-22c7-4f5b-a594-80c53c61e3d0"
      },
      "source": [
        "df_simi_tfidf_sort = df_simi_tfidf.sort_values(by='similarity_tfidf', ascending=False) # sorting the values\n",
        "df_simi_tfidf_sort.head(10)"
      ],
      "execution_count": 38,
      "outputs": [
        {
          "output_type": "execute_result",
          "data": {
            "text/html": [
              "<div>\n",
              "<style scoped>\n",
              "    .dataframe tbody tr th:only-of-type {\n",
              "        vertical-align: middle;\n",
              "    }\n",
              "\n",
              "    .dataframe tbody tr th {\n",
              "        vertical-align: top;\n",
              "    }\n",
              "\n",
              "    .dataframe thead th {\n",
              "        text-align: right;\n",
              "    }\n",
              "</style>\n",
              "<table border=\"1\" class=\"dataframe\">\n",
              "  <thead>\n",
              "    <tr style=\"text-align: right;\">\n",
              "      <th></th>\n",
              "      <th>Text Response</th>\n",
              "      <th>similarity_tfidf</th>\n",
              "    </tr>\n",
              "  </thead>\n",
              "  <tbody>\n",
              "    <tr>\n",
              "      <th>4</th>\n",
              "      <td>I can help you work smarter instead of harder</td>\n",
              "      <td>1.000000</td>\n",
              "    </tr>\n",
              "    <tr>\n",
              "      <th>16</th>\n",
              "      <td>I can help you work smarter instead of harder</td>\n",
              "      <td>0.771758</td>\n",
              "    </tr>\n",
              "    <tr>\n",
              "      <th>9</th>\n",
              "      <td>I can help you work smarter instead of harder</td>\n",
              "      <td>0.759428</td>\n",
              "    </tr>\n",
              "    <tr>\n",
              "      <th>8</th>\n",
              "      <td>I can help you work smarter instead of harder</td>\n",
              "      <td>0.651909</td>\n",
              "    </tr>\n",
              "    <tr>\n",
              "      <th>379</th>\n",
              "      <td>I should get one. It's all work and no play la...</td>\n",
              "      <td>0.594479</td>\n",
              "    </tr>\n",
              "    <tr>\n",
              "      <th>500</th>\n",
              "      <td>The virtual world is my playground. I'm always...</td>\n",
              "      <td>0.590474</td>\n",
              "    </tr>\n",
              "    <tr>\n",
              "      <th>0</th>\n",
              "      <td>Just think of me as the ace up your sleeve.</td>\n",
              "      <td>0.565112</td>\n",
              "    </tr>\n",
              "    <tr>\n",
              "      <th>6</th>\n",
              "      <td>I can help you work smarter instead of harder</td>\n",
              "      <td>0.514553</td>\n",
              "    </tr>\n",
              "    <tr>\n",
              "      <th>48</th>\n",
              "      <td>I'm not programmed for that exact question. Tr...</td>\n",
              "      <td>0.445403</td>\n",
              "    </tr>\n",
              "    <tr>\n",
              "      <th>24</th>\n",
              "      <td>I'm a relatively new bot, but I'm wise beyond ...</td>\n",
              "      <td>0.434832</td>\n",
              "    </tr>\n",
              "  </tbody>\n",
              "</table>\n",
              "</div>"
            ],
            "text/plain": [
              "                                         Text Response  similarity_tfidf\n",
              "4        I can help you work smarter instead of harder          1.000000\n",
              "16       I can help you work smarter instead of harder          0.771758\n",
              "9        I can help you work smarter instead of harder          0.759428\n",
              "8        I can help you work smarter instead of harder          0.651909\n",
              "379  I should get one. It's all work and no play la...          0.594479\n",
              "500  The virtual world is my playground. I'm always...          0.590474\n",
              "0          Just think of me as the ace up your sleeve.          0.565112\n",
              "6        I can help you work smarter instead of harder          0.514553\n",
              "48   I'm not programmed for that exact question. Tr...          0.445403\n",
              "24   I'm a relatively new bot, but I'm wise beyond ...          0.434832"
            ]
          },
          "metadata": {
            "tags": []
          },
          "execution_count": 38
        }
      ]
    },
    {
      "cell_type": "code",
      "metadata": {
        "id": "DUwezrBfh1ET",
        "colab_type": "code",
        "colab": {
          "base_uri": "https://localhost:8080/",
          "height": 1000
        },
        "outputId": "a633fe36-7d4e-4533-ca03-e575d07a7c72"
      },
      "source": [
        "threshold = 0.2 # considering the value of p=smiliarity to be greater than 0.2\n",
        "df_threshold = df_simi_tfidf_sort[df_simi_tfidf_sort['similarity_tfidf'] > threshold] \n",
        "df_threshold"
      ],
      "execution_count": 39,
      "outputs": [
        {
          "output_type": "execute_result",
          "data": {
            "text/html": [
              "<div>\n",
              "<style scoped>\n",
              "    .dataframe tbody tr th:only-of-type {\n",
              "        vertical-align: middle;\n",
              "    }\n",
              "\n",
              "    .dataframe tbody tr th {\n",
              "        vertical-align: top;\n",
              "    }\n",
              "\n",
              "    .dataframe thead th {\n",
              "        text-align: right;\n",
              "    }\n",
              "</style>\n",
              "<table border=\"1\" class=\"dataframe\">\n",
              "  <thead>\n",
              "    <tr style=\"text-align: right;\">\n",
              "      <th></th>\n",
              "      <th>Text Response</th>\n",
              "      <th>similarity_tfidf</th>\n",
              "    </tr>\n",
              "  </thead>\n",
              "  <tbody>\n",
              "    <tr>\n",
              "      <th>4</th>\n",
              "      <td>I can help you work smarter instead of harder</td>\n",
              "      <td>1.000000</td>\n",
              "    </tr>\n",
              "    <tr>\n",
              "      <th>16</th>\n",
              "      <td>I can help you work smarter instead of harder</td>\n",
              "      <td>0.771758</td>\n",
              "    </tr>\n",
              "    <tr>\n",
              "      <th>9</th>\n",
              "      <td>I can help you work smarter instead of harder</td>\n",
              "      <td>0.759428</td>\n",
              "    </tr>\n",
              "    <tr>\n",
              "      <th>8</th>\n",
              "      <td>I can help you work smarter instead of harder</td>\n",
              "      <td>0.651909</td>\n",
              "    </tr>\n",
              "    <tr>\n",
              "      <th>379</th>\n",
              "      <td>I should get one. It's all work and no play la...</td>\n",
              "      <td>0.594479</td>\n",
              "    </tr>\n",
              "    <tr>\n",
              "      <th>500</th>\n",
              "      <td>The virtual world is my playground. I'm always...</td>\n",
              "      <td>0.590474</td>\n",
              "    </tr>\n",
              "    <tr>\n",
              "      <th>0</th>\n",
              "      <td>Just think of me as the ace up your sleeve.</td>\n",
              "      <td>0.565112</td>\n",
              "    </tr>\n",
              "    <tr>\n",
              "      <th>6</th>\n",
              "      <td>I can help you work smarter instead of harder</td>\n",
              "      <td>0.514553</td>\n",
              "    </tr>\n",
              "    <tr>\n",
              "      <th>48</th>\n",
              "      <td>I'm not programmed for that exact question. Tr...</td>\n",
              "      <td>0.445403</td>\n",
              "    </tr>\n",
              "    <tr>\n",
              "      <th>24</th>\n",
              "      <td>I'm a relatively new bot, but I'm wise beyond ...</td>\n",
              "      <td>0.434832</td>\n",
              "    </tr>\n",
              "    <tr>\n",
              "      <th>11</th>\n",
              "      <td>I can help you work smarter instead of harder</td>\n",
              "      <td>0.390810</td>\n",
              "    </tr>\n",
              "    <tr>\n",
              "      <th>3</th>\n",
              "      <td>I can help you work smarter instead of harder</td>\n",
              "      <td>0.390810</td>\n",
              "    </tr>\n",
              "    <tr>\n",
              "      <th>2</th>\n",
              "      <td>I can help you work smarter instead of harder</td>\n",
              "      <td>0.390810</td>\n",
              "    </tr>\n",
              "    <tr>\n",
              "      <th>1203</th>\n",
              "      <td>Lovely, thanks.</td>\n",
              "      <td>0.317730</td>\n",
              "    </tr>\n",
              "    <tr>\n",
              "      <th>1527</th>\n",
              "      <td>Probably I won't be able to give you the right...</td>\n",
              "      <td>0.293930</td>\n",
              "    </tr>\n",
              "    <tr>\n",
              "      <th>1526</th>\n",
              "      <td>Probably I won't be able to give you the right...</td>\n",
              "      <td>0.293930</td>\n",
              "    </tr>\n",
              "    <tr>\n",
              "      <th>15</th>\n",
              "      <td>I can help you work smarter instead of harder</td>\n",
              "      <td>0.284758</td>\n",
              "    </tr>\n",
              "    <tr>\n",
              "      <th>5</th>\n",
              "      <td>I can help you work smarter instead of harder</td>\n",
              "      <td>0.282998</td>\n",
              "    </tr>\n",
              "    <tr>\n",
              "      <th>878</th>\n",
              "      <td>Okay then.</td>\n",
              "      <td>0.278265</td>\n",
              "    </tr>\n",
              "    <tr>\n",
              "      <th>515</th>\n",
              "      <td>Of course I am.</td>\n",
              "      <td>0.277953</td>\n",
              "    </tr>\n",
              "    <tr>\n",
              "      <th>1436</th>\n",
              "      <td>Thanks! The feeling is mutual.</td>\n",
              "      <td>0.275350</td>\n",
              "    </tr>\n",
              "    <tr>\n",
              "      <th>791</th>\n",
              "      <td>Cancelled. Go on with the commands!</td>\n",
              "      <td>0.258578</td>\n",
              "    </tr>\n",
              "    <tr>\n",
              "      <th>1030</th>\n",
              "      <td>That's all right. I forgive you.</td>\n",
              "      <td>0.257507</td>\n",
              "    </tr>\n",
              "    <tr>\n",
              "      <th>806</th>\n",
              "      <td>Cancelled. Go on with the commands!</td>\n",
              "      <td>0.250630</td>\n",
              "    </tr>\n",
              "    <tr>\n",
              "      <th>1037</th>\n",
              "      <td>That's all right. I forgive you.</td>\n",
              "      <td>0.243373</td>\n",
              "    </tr>\n",
              "    <tr>\n",
              "      <th>516</th>\n",
              "      <td>Of course I am.</td>\n",
              "      <td>0.239825</td>\n",
              "    </tr>\n",
              "    <tr>\n",
              "      <th>330</th>\n",
              "      <td>Thanks, I try.</td>\n",
              "      <td>0.238327</td>\n",
              "    </tr>\n",
              "    <tr>\n",
              "      <th>341</th>\n",
              "      <td>Thanks, I try.</td>\n",
              "      <td>0.237712</td>\n",
              "    </tr>\n",
              "    <tr>\n",
              "      <th>1403</th>\n",
              "      <td>Thanks! The feeling is mutual.</td>\n",
              "      <td>0.237025</td>\n",
              "    </tr>\n",
              "    <tr>\n",
              "      <th>1208</th>\n",
              "      <td>Lovely, thanks.</td>\n",
              "      <td>0.232481</td>\n",
              "    </tr>\n",
              "    <tr>\n",
              "      <th>285</th>\n",
              "      <td>Oh no! My best work is yet to come.</td>\n",
              "      <td>0.226665</td>\n",
              "    </tr>\n",
              "    <tr>\n",
              "      <th>184</th>\n",
              "      <td>I'm glad to help. What can I do for you?</td>\n",
              "      <td>0.221686</td>\n",
              "    </tr>\n",
              "    <tr>\n",
              "      <th>817</th>\n",
              "      <td>Cancelled. Go on with the commands!</td>\n",
              "      <td>0.221333</td>\n",
              "    </tr>\n",
              "    <tr>\n",
              "      <th>381</th>\n",
              "      <td>I should get one. It's all work and no play la...</td>\n",
              "      <td>0.217804</td>\n",
              "    </tr>\n",
              "    <tr>\n",
              "      <th>382</th>\n",
              "      <td>I should get one. It's all work and no play la...</td>\n",
              "      <td>0.217804</td>\n",
              "    </tr>\n",
              "    <tr>\n",
              "      <th>332</th>\n",
              "      <td>Thanks, I try.</td>\n",
              "      <td>0.216600</td>\n",
              "    </tr>\n",
              "    <tr>\n",
              "      <th>714</th>\n",
              "      <td>Good deal.</td>\n",
              "      <td>0.215417</td>\n",
              "    </tr>\n",
              "    <tr>\n",
              "      <th>214</th>\n",
              "      <td>I'm glad to help. What can I do for you?</td>\n",
              "      <td>0.210776</td>\n",
              "    </tr>\n",
              "    <tr>\n",
              "      <th>1377</th>\n",
              "      <td>So I see. What can I help you with today?</td>\n",
              "      <td>0.208397</td>\n",
              "    </tr>\n",
              "    <tr>\n",
              "      <th>40</th>\n",
              "      <td>Can you try asking it a different way?</td>\n",
              "      <td>0.207035</td>\n",
              "    </tr>\n",
              "    <tr>\n",
              "      <th>996</th>\n",
              "      <td>Hug it out. You'll feel better afterwards.</td>\n",
              "      <td>0.201679</td>\n",
              "    </tr>\n",
              "    <tr>\n",
              "      <th>1000</th>\n",
              "      <td>Hug it out. You'll feel better afterwards.</td>\n",
              "      <td>0.201679</td>\n",
              "    </tr>\n",
              "    <tr>\n",
              "      <th>1003</th>\n",
              "      <td>Hug it out. You'll feel better afterwards.</td>\n",
              "      <td>0.201679</td>\n",
              "    </tr>\n",
              "    <tr>\n",
              "      <th>1518</th>\n",
              "      <td>Probably I won't be able to give you the right...</td>\n",
              "      <td>0.200153</td>\n",
              "    </tr>\n",
              "  </tbody>\n",
              "</table>\n",
              "</div>"
            ],
            "text/plain": [
              "                                          Text Response  similarity_tfidf\n",
              "4         I can help you work smarter instead of harder          1.000000\n",
              "16        I can help you work smarter instead of harder          0.771758\n",
              "9         I can help you work smarter instead of harder          0.759428\n",
              "8         I can help you work smarter instead of harder          0.651909\n",
              "379   I should get one. It's all work and no play la...          0.594479\n",
              "500   The virtual world is my playground. I'm always...          0.590474\n",
              "0           Just think of me as the ace up your sleeve.          0.565112\n",
              "6         I can help you work smarter instead of harder          0.514553\n",
              "48    I'm not programmed for that exact question. Tr...          0.445403\n",
              "24    I'm a relatively new bot, but I'm wise beyond ...          0.434832\n",
              "11        I can help you work smarter instead of harder          0.390810\n",
              "3         I can help you work smarter instead of harder          0.390810\n",
              "2         I can help you work smarter instead of harder          0.390810\n",
              "1203                                    Lovely, thanks.          0.317730\n",
              "1527  Probably I won't be able to give you the right...          0.293930\n",
              "1526  Probably I won't be able to give you the right...          0.293930\n",
              "15        I can help you work smarter instead of harder          0.284758\n",
              "5         I can help you work smarter instead of harder          0.282998\n",
              "878                                          Okay then.          0.278265\n",
              "515                                     Of course I am.          0.277953\n",
              "1436                     Thanks! The feeling is mutual.          0.275350\n",
              "791                 Cancelled. Go on with the commands!          0.258578\n",
              "1030                   That's all right. I forgive you.          0.257507\n",
              "806                 Cancelled. Go on with the commands!          0.250630\n",
              "1037                   That's all right. I forgive you.          0.243373\n",
              "516                                     Of course I am.          0.239825\n",
              "330                                      Thanks, I try.          0.238327\n",
              "341                                      Thanks, I try.          0.237712\n",
              "1403                     Thanks! The feeling is mutual.          0.237025\n",
              "1208                                    Lovely, thanks.          0.232481\n",
              "285                 Oh no! My best work is yet to come.          0.226665\n",
              "184            I'm glad to help. What can I do for you?          0.221686\n",
              "817                 Cancelled. Go on with the commands!          0.221333\n",
              "381   I should get one. It's all work and no play la...          0.217804\n",
              "382   I should get one. It's all work and no play la...          0.217804\n",
              "332                                      Thanks, I try.          0.216600\n",
              "714                                          Good deal.          0.215417\n",
              "214            I'm glad to help. What can I do for you?          0.210776\n",
              "1377          So I see. What can I help you with today?          0.208397\n",
              "40               Can you try asking it a different way?          0.207035\n",
              "996          Hug it out. You'll feel better afterwards.          0.201679\n",
              "1000         Hug it out. You'll feel better afterwards.          0.201679\n",
              "1003         Hug it out. You'll feel better afterwards.          0.201679\n",
              "1518  Probably I won't be able to give you the right...          0.200153"
            ]
          },
          "metadata": {
            "tags": []
          },
          "execution_count": 39
        }
      ]
    },
    {
      "cell_type": "markdown",
      "metadata": {
        "id": "pAGIZgY9h1EW",
        "colab_type": "text"
      },
      "source": [
        "- by using tfidf for the question 'Will you help me and tell me about yourself more' , the above are the responses we got and the smiliarity value of responses, we consider the response with highest similarity"
      ]
    },
    {
      "cell_type": "code",
      "metadata": {
        "id": "m3sqpcxah1EX",
        "colab_type": "code",
        "colab": {
          "base_uri": "https://localhost:8080/",
          "height": 34
        },
        "outputId": "16c4f7c8-f562-4c6b-95e6-e6e5f654b610"
      },
      "source": [
        "index_value1 = cos.argmax() # returns the index number of highest value\n",
        "index_value1"
      ],
      "execution_count": 40,
      "outputs": [
        {
          "output_type": "execute_result",
          "data": {
            "text/plain": [
              "4"
            ]
          },
          "metadata": {
            "tags": []
          },
          "execution_count": 40
        }
      ]
    },
    {
      "cell_type": "code",
      "metadata": {
        "id": "OUoRnv7vh1EZ",
        "colab_type": "code",
        "colab": {
          "base_uri": "https://localhost:8080/",
          "height": 35
        },
        "outputId": "f67d8549-97f2-41d6-9a92-02a08ad9cf2e"
      },
      "source": [
        "Question1"
      ],
      "execution_count": 41,
      "outputs": [
        {
          "output_type": "execute_result",
          "data": {
            "application/vnd.google.colaboratory.intrinsic": {
              "type": "string"
            },
            "text/plain": [
              "'Tell me about yourself.'"
            ]
          },
          "metadata": {
            "tags": []
          },
          "execution_count": 41
        }
      ]
    },
    {
      "cell_type": "code",
      "metadata": {
        "id": "6Ikqqa4Eh1Ec",
        "colab_type": "code",
        "colab": {
          "base_uri": "https://localhost:8080/",
          "height": 35
        },
        "outputId": "6acd34ae-462c-4e43-d987-99d708c5ca7b"
      },
      "source": [
        "df['Text Response'].loc[index_value1]  # returns the text at that index"
      ],
      "execution_count": 42,
      "outputs": [
        {
          "output_type": "execute_result",
          "data": {
            "application/vnd.google.colaboratory.intrinsic": {
              "type": "string"
            },
            "text/plain": [
              "'I can help you work smarter instead of harder'"
            ]
          },
          "metadata": {
            "tags": []
          },
          "execution_count": 42
        }
      ]
    },
    {
      "cell_type": "markdown",
      "metadata": {
        "id": "nq16bhSJNWJh",
        "colab_type": "text"
      },
      "source": [
        "#Model"
      ]
    },
    {
      "cell_type": "markdown",
      "metadata": {
        "id": "6uW7QUDJh1Eg",
        "colab_type": "text"
      },
      "source": [
        "##Bag of Words Implementation"
      ]
    },
    {
      "cell_type": "code",
      "metadata": {
        "id": "xUt46E90h1Eg",
        "colab_type": "code",
        "colab": {}
      },
      "source": [
        "# Function that removes stop words and process the text\n",
        "\n",
        "def stopword_(text):   \n",
        "    tag_list=pos_tag(nltk.word_tokenize(text),tagset=None)\n",
        "    stop=stopwords.words('english')\n",
        "    lema=wordnet.WordNetLemmatizer()\n",
        "    lema_word=[]\n",
        "    for token,pos_token in tag_list:\n",
        "        if token in stop:\n",
        "            continue\n",
        "        if pos_token.startswith('V'):\n",
        "            pos_val='v'\n",
        "        elif pos_token.startswith('J'):\n",
        "            pos_val='a'\n",
        "        elif pos_token.startswith('R'):\n",
        "            pos_val='r'\n",
        "        else:\n",
        "            pos_val='n'\n",
        "        lema_token=lema.lemmatize(token,pos_val)\n",
        "        lema_word.append(lema_token)\n",
        "    return \" \".join(lema_word) "
      ],
      "execution_count": 43,
      "outputs": []
    },
    {
      "cell_type": "code",
      "metadata": {
        "id": "GLxxrAPSh1Ek",
        "colab_type": "code",
        "colab": {}
      },
      "source": [
        "# defining a function that returns response to query using bow\n",
        "\n",
        "def chat_bow(text):\n",
        "    s=stopword_(text)\n",
        "    lemma=text_normalization(s) # calling the function to perform text normalization\n",
        "    bow=cv.transform([lemma]).toarray() # applying bow\n",
        "    cosine_value = 1- pairwise_distances(df_bow,bow, metric = 'cosine' )\n",
        "    index_value=cosine_value.argmax() # getting index value \n",
        "    return df['Text Response'].loc[index_value]"
      ],
      "execution_count": 44,
      "outputs": []
    },
    {
      "cell_type": "code",
      "metadata": {
        "id": "vZE3XJ9yh1En",
        "colab_type": "code",
        "colab": {
          "base_uri": "https://localhost:8080/",
          "height": 35
        },
        "outputId": "6b271568-6da3-42a8-dbfc-3fd8ec869ae0"
      },
      "source": [
        "chat_bow('hi there') #Testing block"
      ],
      "execution_count": 45,
      "outputs": [
        {
          "output_type": "execute_result",
          "data": {
            "application/vnd.google.colaboratory.intrinsic": {
              "type": "string"
            },
            "text/plain": [
              "'Hey!'"
            ]
          },
          "metadata": {
            "tags": []
          },
          "execution_count": 45
        }
      ]
    },
    {
      "cell_type": "markdown",
      "metadata": {
        "id": "J3j3X9TEh1Ew",
        "colab_type": "text"
      },
      "source": [
        "##TF-IDF Implementation"
      ]
    },
    {
      "cell_type": "code",
      "metadata": {
        "id": "EAR2ckmlh1Ew",
        "colab_type": "code",
        "colab": {}
      },
      "source": [
        "# defining a function that returns response to query using tf-idf\n",
        "\n",
        "def chat_tfidf(text):\n",
        "    lemma=text_normalization(text) # calling the function to perform text normalization\n",
        "    tf=tfidf.transform([lemma]).toarray() # applying tf-idf\n",
        "    cos=1-pairwise_distances(df_tfidf,tf,metric='cosine') # applying cosine similarity\n",
        "    index_value=cos.argmax() # getting index value \n",
        "    return df['Text Response'].loc[index_value]"
      ],
      "execution_count": 48,
      "outputs": []
    },
    {
      "cell_type": "code",
      "metadata": {
        "id": "Js3wQJzzh1E4",
        "colab_type": "code",
        "colab": {
          "base_uri": "https://localhost:8080/",
          "height": 35
        },
        "outputId": "f794a287-ad12-4f60-fbc5-8116f774430c"
      },
      "source": [
        "chat_tfidf('I need help') #Test block"
      ],
      "execution_count": 51,
      "outputs": [
        {
          "output_type": "execute_result",
          "data": {
            "application/vnd.google.colaboratory.intrinsic": {
              "type": "string"
            },
            "text/plain": [
              "\"I'm glad to help. What can I do for you?\""
            ]
          },
          "metadata": {
            "tags": []
          },
          "execution_count": 51
        }
      ]
    },
    {
      "cell_type": "markdown",
      "metadata": {
        "id": "WoAQ781tOtX9",
        "colab_type": "text"
      },
      "source": [
        "#Interactive Chatbot"
      ]
    },
    {
      "cell_type": "code",
      "metadata": {
        "id": "vJsXcOiilHLi",
        "colab_type": "code",
        "colab": {
          "base_uri": "https://localhost:8080/",
          "height": 204
        },
        "cellView": "both",
        "outputId": "7e4f8c6d-f707-4782-b4cb-10141fbf5cef"
      },
      "source": [
        "flag = True\n",
        "print('Hey there. I will be happy to help you out, if you wanna exit, type Bye')\n",
        "while(flag==True):\n",
        "  user_response=input()\n",
        "  user_response=user_response.lower()\n",
        "  if (user_response!='Bye' and user_response!='bye'):\n",
        "    print(chat_tfidf(user_response))\n",
        "  else:\n",
        "    flag=False\n",
        "    print('I hope to see you soon again, bye.')"
      ],
      "execution_count": 57,
      "outputs": [
        {
          "output_type": "stream",
          "text": [
            "Hey there. I will be happy to help you out, if you wanna exit, type Bye\n",
            "Hey\n",
            "Hi there, friend!\n",
            "How are you doing?\n",
            "Lovely, thanks.\n",
            "Great, I need your help\n",
            "I'm glad to help. What can I do for you?\n",
            "Nothing\n",
            "Cancelled. Go on with the commands!\n",
            "Bye\n",
            "I hope to see you soon again, bye.\n"
          ],
          "name": "stdout"
        }
      ]
    }
  ]
}